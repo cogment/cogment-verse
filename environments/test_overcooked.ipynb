{
 "cells": [
  {
   "attachments": {},
   "cell_type": "markdown",
   "metadata": {},
   "source": [
    "# Explore Overcooked-AI"
   ]
  },
  {
   "attachments": {},
   "cell_type": "markdown",
   "metadata": {},
   "source": [
    "## Gym env"
   ]
  },
  {
   "cell_type": "code",
   "execution_count": 1,
   "metadata": {},
   "outputs": [],
   "source": [
    "import copy\n",
    "import glob\n",
    "import json\n",
    "import gym\n",
    "import numpy as np\n",
    "\n",
    "from overcooked_ai_py.agents.agent import (\n",
    "    AgentGroup,\n",
    "    AgentPair,\n",
    "    FixedPlanAgent,\n",
    "    GreedyHumanModel,\n",
    "    RandomAgent,\n",
    ")\n",
    "\n",
    "from overcooked_ai_py.visualization.state_visualizer import StateVisualizer\n",
    "from overcooked_ai_py.agents.benchmarking import AgentEvaluator\n",
    "from overcooked_ai_py.mdp.actions import Action, Direction\n",
    "from overcooked_ai_py.mdp.layout_generator import (\n",
    "    DISH_DISPENSER,\n",
    "    ONION_DISPENSER,\n",
    "    POT,\n",
    "    SERVING_LOC,\n",
    "    TOMATO_DISPENSER,\n",
    "    LayoutGenerator,\n",
    ")\n",
    "from overcooked_ai_py.mdp.overcooked_env import (\n",
    "    DEFAULT_ENV_PARAMS,\n",
    "    OvercookedEnv,\n",
    "    Overcooked,\n",
    ")\n",
    "from overcooked_ai_py.mdp.overcooked_mdp import (\n",
    "    ObjectState,\n",
    "    OvercookedGridworld,\n",
    "    OvercookedState,\n",
    "    PlayerState,\n",
    "    Recipe,\n",
    "    SoupState,\n",
    ")\n",
    "from overcooked_ai_py.mdp.overcooked_trajectory import (\n",
    "    DEFAULT_TRAJ_KEYS,\n",
    "    EPISODE_TRAJ_KEYS,\n",
    "    TIMESTEP_TRAJ_KEYS,\n",
    "    append_trajectories,\n",
    ")\n",
    "from overcooked_ai_py.planning.planners import (\n",
    "    NO_COUNTERS_PARAMS,\n",
    "    MediumLevelActionManager,\n",
    "    MotionPlanner,\n",
    ")\n"
   ]
  },
  {
   "cell_type": "code",
   "execution_count": 6,
   "metadata": {},
   "outputs": [
    {
     "name": "stdout",
     "output_type": "stream",
     "text": [
      "Computing MediumLevelActionManager\n",
      "Computing MediumLevelActionManager\n",
      "Computing MediumLevelActionManager\n",
      "Discrete(6)\n",
      "Box(0.0, inf, (96,), float32)\n"
     ]
    }
   ],
   "source": [
    "base_mdp = OvercookedGridworld.from_layout_name(\"cramped_room\")\n",
    "env = OvercookedEnv.from_mdp(base_mdp, **DEFAULT_ENV_PARAMS)\n",
    "rnd_agent_pair = AgentPair(FixedPlanAgent([]), FixedPlanAgent([]))\n",
    "gym_env = Overcooked(base_env=env, featurize_fn=env.featurize_state_mdp)\n",
    "\n",
    "init_obs = gym_env.reset()\n",
    "print(gym_env.action_space)\n",
    "print(gym_env.observation_space)"
   ]
  },
  {
   "cell_type": "code",
   "execution_count": null,
   "metadata": {},
   "outputs": [],
   "source": [
    "rendered_array = gym_env.render(mode=\"human\", close=False)\n",
    "print(rendered_array.shape)"
   ]
  },
  {
   "cell_type": "code",
   "execution_count": 12,
   "metadata": {},
   "outputs": [
    {
     "name": "stdout",
     "output_type": "stream",
     "text": [
      "dict_keys(['both_agent_obs', 'overcooked_state', 'other_agent_env_idx'])\n",
      "(array([ 1.,  0.,  0.,  0.,  0.,  0.,  0.,  0., -1., -1.,  0.,  0.,  0.,\n",
      "        1.,  0.,  0.,  0.,  0.,  2.,  1.,  0.,  0.,  1.,  1.,  0.,  0.,\n",
      "        0.,  0.,  0.,  0.,  1., -2.,  0.,  0.,  0.,  0.,  0.,  0.,  0.,\n",
      "        0.,  0.,  0.,  0.,  1.,  0.,  1.,  1.,  0.,  0.,  0.,  0.,  0.,\n",
      "        0.,  0.,  1.,  0.,  0.,  0., -2.,  2.,  0.,  0.,  0.,  0.,  0.,\n",
      "        2.,  0.,  0.,  1.,  1.,  0.,  0.,  0.,  0.,  0.,  0., -1., -1.,\n",
      "        0.,  0.,  0.,  0.,  0.,  0.,  0.,  0.,  0.,  0.,  1.,  0.,  1.,\n",
      "        0.,  2., -1.,  1.,  2.]), array([ 1.,  0.,  0.,  0.,  0.,  0.,  0.,  0.,  1.,  0.,  0.,  0., -2.,\n",
      "        2.,  0.,  0.,  0.,  0.,  0.,  2.,  0.,  0.,  1.,  1.,  0.,  0.,\n",
      "        0.,  0.,  0.,  0., -1., -1.,  0.,  0.,  0.,  0.,  0.,  0.,  0.,\n",
      "        0.,  0.,  0.,  1.,  0.,  1.,  0.,  1.,  0.,  0.,  0.,  0.,  0.,\n",
      "        0.,  0., -1., -1.,  0.,  0.,  0.,  1.,  0.,  0.,  0.,  0.,  2.,\n",
      "        1.,  0.,  0.,  1.,  1.,  0.,  0.,  0.,  0.,  0.,  0.,  1., -2.,\n",
      "        0.,  0.,  0.,  0.,  0.,  0.,  0.,  0.,  0.,  0.,  0.,  1.,  0.,\n",
      "        1., -2.,  1.,  3.,  1.]))\n"
     ]
    },
    {
     "data": {
      "text/plain": [
       "(96,)"
      ]
     },
     "execution_count": 12,
     "metadata": {},
     "output_type": "execute_result"
    }
   ],
   "source": [
    "print(init_obs.keys())\n",
    "print(init_obs[\"both_agent_obs\"])\n",
    "init_obs[\"both_agent_obs\"][0].shape"
   ]
  },
  {
   "cell_type": "code",
   "execution_count": 10,
   "metadata": {},
   "outputs": [
    {
     "name": "stdout",
     "output_type": "stream",
     "text": [
      "Players: ((1, 2) facing (0, -1) holding None, (3, 1) facing (0, -1) holding None), Objects: [], Bonus orders: [] All orders: [('onion', 'onion', 'onion')] Timestep: 0\n"
     ]
    }
   ],
   "source": [
    "print(init_obs[\"overcooked_state\"])"
   ]
  },
  {
   "cell_type": "code",
   "execution_count": 11,
   "metadata": {},
   "outputs": [
    {
     "name": "stdout",
     "output_type": "stream",
     "text": [
      "1\n"
     ]
    }
   ],
   "source": [
    "print(init_obs[\"other_agent_env_idx\"])"
   ]
  },
  {
   "cell_type": "code",
   "execution_count": null,
   "metadata": {},
   "outputs": [],
   "source": []
  }
 ],
 "metadata": {
  "kernelspec": {
   "display_name": ".venv",
   "language": "python",
   "name": "python3"
  },
  "language_info": {
   "codemirror_mode": {
    "name": "ipython",
    "version": 3
   },
   "file_extension": ".py",
   "mimetype": "text/x-python",
   "name": "python",
   "nbconvert_exporter": "python",
   "pygments_lexer": "ipython3",
   "version": "3.9.16"
  },
  "orig_nbformat": 4,
  "vscode": {
   "interpreter": {
    "hash": "15082fb71ad28ad2d7b71b4cd0ce6dd863b330689b09c9c4dde79fef1c72510a"
   }
  }
 },
 "nbformat": 4,
 "nbformat_minor": 2
}
