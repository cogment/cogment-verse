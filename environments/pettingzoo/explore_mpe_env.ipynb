{
 "cells": [
  {
   "attachments": {},
   "cell_type": "markdown",
   "metadata": {},
   "source": [
    "# Data Exploration\n",
    "\n",
    "This notebook is meant to be a template for explorion of the data collected from trials.\n",
    "\n",
    "### Please duplicate the notebook to start your work and keep the template intact.\n",
    "\n",
    "## Before running the notebook\n",
    "The trial datastore process must be started prior to running the notebook. Make sure you open a terminal, activate the .venv environment, run:\n",
    "```\n",
    "python -m launch_local_services\n",
    "```\n",
    "\n",
    "Once you are done with working in this notebook, close the terminal window."
   ]
  },
  {
   "attachments": {},
   "cell_type": "markdown",
   "metadata": {},
   "source": [
    "## Cogment Setup"
   ]
  },
  {
   "cell_type": "code",
   "execution_count": null,
   "metadata": {},
   "outputs": [],
   "source": [
    "import os\n",
    "import sys\n",
    "\n",
    "ROOT_DIR = os.path.abspath(os.path.join(os.getcwd(), \"../../\"))\n",
    "sys.path.append(ROOT_DIR)\n",
    "\n",
    "from cogment_verse.utils.generate import generate\n",
    "from cogment_verse.app import SPEC_FILEPATH\n",
    "\n",
    "WORK_DIR = os.path.join(ROOT_DIR, \".cogment_verse\")\n",
    "\n",
    "generate(WORK_DIR, SPEC_FILEPATH)"
   ]
  },
  {
   "cell_type": "code",
   "execution_count": null,
   "metadata": {},
   "outputs": [],
   "source": [
    "import asyncio\n",
    "import functools\n",
    "import re\n",
    "from dataclasses import dataclass, field\n",
    "from datetime import datetime\n",
    "from typing import List\n",
    "\n",
    "import cogment\n",
    "import numpy as np\n",
    "import pandas as pd\n",
    "from cogment.control import TrialState\n",
    "from tabulate import tabulate\n",
    "\n",
    "import gymnasium\n",
    "\n",
    "\n",
    "from cogment_verse.specs import (\n",
    "    AgentConfig,\n",
    "    cog_settings,\n",
    "    EnvironmentConfig,\n",
    "    EnvironmentSpecs,\n",
    "    HUMAN_ACTOR_IMPL,\n",
    "    PLAYER_ACTOR_CLASS,\n",
    "    TEACHER_ACTOR_CLASS,\n",
    "    WEB_ACTOR_NAME,\n",
    ")\n",
    "from cogment_verse.specs.ndarray_serialization import deserialize_ndarray, serialize_ndarray\n",
    "from cogment.session import ActorInfo\n",
    "\n",
    "\n",
    "TRIAL_DATASTORE_ENDPOINT = \"grpc://localhost:9001\""
   ]
  },
  {
   "cell_type": "code",
   "execution_count": null,
   "metadata": {},
   "outputs": [],
   "source": [
    "from pettingzoo.mpe import simple_tag_v3\n",
    "\n",
    "env = simple_tag_v3.env(\n",
    "    num_good=2,\n",
    "    num_adversaries=2,\n",
    "    num_obstacles=2,\n",
    "    max_cycles=25,\n",
    "    continuous_actions=False,\n",
    "    render_mode=\"rgb_array\",\n",
    ")\n",
    "\n",
    "env.reset()"
   ]
  },
  {
   "cell_type": "code",
   "execution_count": null,
   "metadata": {},
   "outputs": [],
   "source": [
    "print(env.agents)\n",
    "print(env.num_agents)\n",
    "print(env.observation_space(\"agent_0\"))\n",
    "print(env.action_space(\"agent_0\"))"
   ]
  },
  {
   "cell_type": "code",
   "execution_count": null,
   "metadata": {},
   "outputs": [],
   "source": [
    "import matplotlib.pyplot as plt\n",
    "\n",
    "rendered_frame = env.render()\n",
    "\n",
    "plt.imshow(rendered_frame)"
   ]
  },
  {
   "cell_type": "code",
   "execution_count": null,
   "metadata": {},
   "outputs": [],
   "source": [
    "frames = []\n",
    "for agent in env.agent_iter():\n",
    "    observation, reward, termination, truncation, info = env.last()\n",
    "    action = env.action_space(agent).sample() # this is where you would insert your policy\n",
    "    print(f\"agent: {agent} | observation: {observation.shape} | action: {action}\")\n",
    "    #print(f\"\\t observation: {observation.shape}\")\n",
    "    #print(f\"\\t action: {action}\")\n",
    "    frames.append(env.render())\n",
    "    env.step(action)\n",
    "    plt.imshow(rendered_frame)"
   ]
  },
  {
   "cell_type": "code",
   "execution_count": null,
   "metadata": {},
   "outputs": [],
   "source": [
    "plt.imshow(frames[100])"
   ]
  },
  {
   "cell_type": "code",
   "execution_count": null,
   "metadata": {},
   "outputs": [],
   "source": [
    "frames[100]"
   ]
  },
  {
   "cell_type": "code",
   "execution_count": null,
   "metadata": {},
   "outputs": [],
   "source": [
    "from enum import Enum\n",
    "\n",
    "\n",
    "class MpeSpecType(Enum):\n",
    "    \"\"\" Used to associate different environment specs to different actors.\n",
    "    \"\"\"\n",
    "    DEFAULT = \"player\"\n",
    "    GOOD = \"mpe_agent\"\n",
    "    ADVERSARY = \"mpe_adversary\"\n",
    "\n",
    "    @classmethod\n",
    "    def from_config(cls, spec_type_str: str):\n",
    "        try:\n",
    "            return cls(spec_type_str)\n",
    "        except ValueError:\n",
    "            raise ValueError(f\"Actor specs type ({spec_type_str}) is not a supported type: [{', '.join(MpeSpecType.values)}]\")\n",
    "\n",
    "    @classmethod\n",
    "    @property\n",
    "    def values(self) -> List[str]:\n",
    "        \"\"\" Return list of all values available in the enum \"\"\"\n",
    "        return list(spec_type.value for spec_type in MpeSpecType)"
   ]
  },
  {
   "cell_type": "code",
   "execution_count": null,
   "metadata": {},
   "outputs": [],
   "source": [
    "l = [1, 2, 3, 4]\n",
    "a = [\"a\", \"b\", \"c\", \"d\"]\n",
    "\n",
    "d = {key: val if val > 2 else 10 for key, val in zip(a, l)}\n",
    "d"
   ]
  },
  {
   "cell_type": "code",
   "execution_count": null,
   "metadata": {},
   "outputs": [],
   "source": [
    "GOOD_ACTOR_PREFIX = \"agent\"\n",
    "ADVERSARY_ACTOR_PREFIX = \"adversary\"\n",
    "WEB_ACTOR_NAME = \"web_actor\"\n",
    "\n",
    "def get_strings_with_prefix(strings, prefix):\n",
    "    pattern = r'^' + prefix\n",
    "    matches = [string for string in strings if re.match(pattern, string)]\n",
    "    return matches\n",
    "\n",
    "env_agents = ['adversary_0', 'adversary_1', 'adversary_2', 'adversary_3', 'agent_0', 'agent_1', 'agent_2']\n",
    "\n",
    "# player_actors = [\n",
    "#     (0, 'agent_0', 'mpe_agent'), \n",
    "#     (1, 'agent_1', 'mpe_agent'), \n",
    "#     (2, 'web_actor', 'player'), \n",
    "#     (3, 'adversary_0', 'mpe_adversary'), \n",
    "#     (4, 'adversary_1', 'mpe_adversary'), \n",
    "#     (5, 'adversary_2', 'mpe_adversary'), \n",
    "#     (6, 'adversary_3', 'mpe_adversary'),\n",
    "# ]\n",
    "\n",
    "player_actors = [\n",
    "    (0, 'agent_0', 'mpe_agent'), \n",
    "    (1, 'agent_1', 'mpe_agent'), \n",
    "    (2, 'adversary_0', 'mpe_adversary'), \n",
    "    (3, 'adversary_1', 'mpe_adversary'), \n",
    "    (4, 'adversary_2', 'mpe_adversary'), \n",
    "    (5, 'web_actor', 'player'), \n",
    "]\n",
    "\n",
    "pz_name_to_idx = {agent_name: count for (count, agent_name) in enumerate(env_agents)}\n",
    "pz_idx_to_names = {v: k for k, v in pz_name_to_idx.items()}\n",
    "\n",
    "print(f\"pz_idx_to_names: {pz_idx_to_names}\")\n",
    "print(f\"pz_name_to_idx: {pz_name_to_idx}\")\n",
    "\n",
    "pz_to_actor_idx_mapping = {}\n",
    "for _actor_idx, _actor_name, _actor_class_name in player_actors:\n",
    "    if _actor_name == WEB_ACTOR_NAME:\n",
    "        if _actor_class_name == MpeSpecType.ADVERSARY.value:\n",
    "            current_names = [pz_idx_to_names[idx] for idx, _ in pz_to_actor_idx_mapping.items()]\n",
    "            idx_count = len(get_strings_with_prefix(strings=current_names, prefix=ADVERSARY_ACTOR_PREFIX))\n",
    "            pz_web_actor_name = f\"{ADVERSARY_ACTOR_PREFIX}_{idx_count}\"\n",
    "        else:\n",
    "            current_names = [pz_idx_to_names[idx] for idx, _ in pz_to_actor_idx_mapping.items()]\n",
    "            idx_count = len(get_strings_with_prefix(strings=current_names, prefix=GOOD_ACTOR_PREFIX))\n",
    "            pz_web_actor_name = f\"{GOOD_ACTOR_PREFIX}_{idx_count}\"\n",
    "\n",
    "        pz_web_actor_idx = pz_name_to_idx[pz_web_actor_name]\n",
    "        \n",
    "    else:\n",
    "        pz_web_actor_idx = pz_name_to_idx[_actor_name]\n",
    "      \n",
    "    pz_to_actor_idx_mapping[pz_web_actor_idx] = _actor_idx\n",
    "    print(f\"pz_to_actor_idx_mapping: {pz_to_actor_idx_mapping}\")\n",
    "    current_names = [pz_idx_to_names[idx] for idx, _ in pz_to_actor_idx_mapping.items()]\n",
    "    print(current_names)\n",
    "\n",
    "print(f\"pz_to_actor_idx_mapping: {pz_to_actor_idx_mapping}\")\n",
    "\n",
    "\n",
    "class MpeActors:\n",
    "    \n",
    "    def __init__(self, pz_actors: List[str], cogment_actors: List[ActorInfo]):\n",
    "        self.pz_actors = pz_actors\n",
    "        self.player_actors = [\n",
    "            (actor_idx, actor.actor_name, actor.actor_class_name)\n",
    "            for (actor_idx, actor) in enumerate(actors)\n",
    "            if actor.actor_class_name in self.player_classes\n",
    "        ]"
   ]
  },
  {
   "cell_type": "code",
   "execution_count": null,
   "metadata": {},
   "outputs": [],
   "source": []
  },
  {
   "cell_type": "code",
   "execution_count": null,
   "metadata": {},
   "outputs": [],
   "source": []
  }
 ],
 "metadata": {
  "kernelspec": {
   "display_name": ".venv",
   "language": "python",
   "name": "python3"
  },
  "language_info": {
   "codemirror_mode": {
    "name": "ipython",
    "version": 3
   },
   "file_extension": ".py",
   "mimetype": "text/x-python",
   "name": "python",
   "nbconvert_exporter": "python",
   "pygments_lexer": "ipython3",
   "version": "3.9.16"
  },
  "orig_nbformat": 4,
  "vscode": {
   "interpreter": {
    "hash": "ff55a71747f840c7b6e33248b46cb40245ff20b6d08dfd45922763a0ef363d01"
   }
  }
 },
 "nbformat": 4,
 "nbformat_minor": 2
}
