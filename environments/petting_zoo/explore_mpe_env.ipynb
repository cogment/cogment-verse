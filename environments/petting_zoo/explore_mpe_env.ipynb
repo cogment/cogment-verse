{
 "cells": [
  {
   "attachments": {},
   "cell_type": "markdown",
   "metadata": {},
   "source": [
    "# Data Exploration\n",
    "\n",
    "This notebook is meant to be a template for explorion of the data collected from trials.\n",
    "\n",
    "### Please duplicate the notebook to start your work and keep the template intact.\n",
    "\n",
    "## Before running the notebook\n",
    "The trial datastore process must be started prior to running the notebook. Make sure you open a terminal, activate the .venv environment, run:\n",
    "```\n",
    "python -m launch_local_services\n",
    "```\n",
    "\n",
    "Once you are done with working in this notebook, close the terminal window."
   ]
  },
  {
   "attachments": {},
   "cell_type": "markdown",
   "metadata": {},
   "source": [
    "## Cogment Setup"
   ]
  },
  {
   "cell_type": "code",
   "execution_count": 1,
   "metadata": {},
   "outputs": [
    {
     "name": "stderr",
     "output_type": "stream",
     "text": [
      "/home/william/dev/cogment-verse/.venv/lib/python3.9/site-packages/tqdm/auto.py:21: TqdmWarning: IProgress not found. Please update jupyter and ipywidgets. See https://ipywidgets.readthedocs.io/en/stable/user_install.html\n",
      "  from .autonotebook import tqdm as notebook_tqdm\n"
     ]
    }
   ],
   "source": [
    "import os\n",
    "import sys\n",
    "\n",
    "ROOT_DIR = os.path.abspath(os.path.join(os.getcwd(), \"../\"))\n",
    "sys.path.append(ROOT_DIR)\n",
    "\n",
    "from cogment_verse.utils.generate import generate\n",
    "from cogment_verse.app import SPEC_FILEPATH\n",
    "\n",
    "WORK_DIR = os.path.join(ROOT_DIR, \".cogment_verse\")\n",
    "\n",
    "generate(WORK_DIR, SPEC_FILEPATH)"
   ]
  },
  {
   "cell_type": "code",
   "execution_count": 2,
   "metadata": {},
   "outputs": [],
   "source": [
    "import asyncio\n",
    "import functools\n",
    "import re\n",
    "from dataclasses import dataclass, field\n",
    "from datetime import datetime\n",
    "from typing import List\n",
    "\n",
    "import cogment\n",
    "import numpy as np\n",
    "import pandas as pd\n",
    "from cogment.control import TrialState\n",
    "from tabulate import tabulate\n",
    "\n",
    "import gymnasium\n",
    "\n",
    "\n",
    "from cogment_verse.specs import (\n",
    "    AgentConfig,\n",
    "    cog_settings,\n",
    "    EnvironmentConfig,\n",
    "    EnvironmentSpecs,\n",
    "    HUMAN_ACTOR_IMPL,\n",
    "    PLAYER_ACTOR_CLASS,\n",
    "    TEACHER_ACTOR_CLASS,\n",
    "    WEB_ACTOR_NAME,\n",
    ")\n",
    "from cogment_verse.specs.ndarray_serialization import deserialize_ndarray, serialize_ndarray\n",
    "\n",
    "\n",
    "TRIAL_DATASTORE_ENDPOINT = \"grpc://localhost:9001\""
   ]
  },
  {
   "cell_type": "code",
   "execution_count": 3,
   "metadata": {},
   "outputs": [],
   "source": [
    "from pettingzoo.mpe import simple_tag_v3\n",
    "\n",
    "env = simple_tag_v3.env(\n",
    "    num_good=2,\n",
    "    num_adversaries=2,\n",
    "    num_obstacles=2,\n",
    "    max_cycles=25,\n",
    "    continuous_actions=False,\n",
    "    render_mode=\"rgb_array\",\n",
    ")\n",
    "\n",
    "env.reset()"
   ]
  },
  {
   "cell_type": "code",
   "execution_count": 4,
   "metadata": {},
   "outputs": [
    {
     "name": "stdout",
     "output_type": "stream",
     "text": [
      "['adversary_0', 'adversary_1', 'agent_0', 'agent_1']\n",
      "4\n",
      "Box(-inf, inf, (16,), float32)\n",
      "Discrete(5)\n"
     ]
    }
   ],
   "source": [
    "print(env.agents)\n",
    "print(env.num_agents)\n",
    "print(env.observation_space(\"agent_0\"))\n",
    "print(env.action_space(\"agent_0\"))"
   ]
  },
  {
   "cell_type": "code",
   "execution_count": 5,
   "metadata": {},
   "outputs": [
    {
     "data": {
      "text/plain": [
       "<matplotlib.image.AxesImage at 0x7f418cbf9580>"
      ]
     },
     "execution_count": 5,
     "metadata": {},
     "output_type": "execute_result"
    },
    {
     "data": {
      "image/png": "[encoded data removed]",
      "text/plain": [
       "<Figure size 640x480 with 1 Axes>"
      ]
     },
     "metadata": {},
     "output_type": "display_data"
    }
   ],
   "source": [
    "import matplotlib.pyplot as plt\n",
    "\n",
    "rendered_frame = env.render()\n",
    "\n",
    "plt.imshow(rendered_frame)"
   ]
  },
  {
   "cell_type": "code",
   "execution_count": 62,
   "metadata": {},
   "outputs": [
    {
     "name": "stdout",
     "output_type": "stream",
     "text": [
      "agent: adversary_0 | observation: (18,) | action: 3\n",
      "agent: adversary_1 | observation: (18,) | action: 3\n",
      "agent: agent_0 | observation: (16,) | action: 4\n",
      "agent: agent_1 | observation: (16,) | action: 2\n",
      "agent: adversary_0 | observation: (18,) | action: 3\n",
      "agent: adversary_1 | observation: (18,) | action: 3\n",
      "agent: agent_0 | observation: (16,) | action: 2\n",
      "agent: agent_1 | observation: (16,) | action: 4\n",
      "agent: adversary_0 | observation: (18,) | action: 1\n",
      "agent: adversary_1 | observation: (18,) | action: 4\n",
      "agent: agent_0 | observation: (16,) | action: 0\n",
      "agent: agent_1 | observation: (16,) | action: 1\n",
      "agent: adversary_0 | observation: (18,) | action: 2\n",
      "agent: adversary_1 | observation: (18,) | action: 4\n",
      "agent: agent_0 | observation: (16,) | action: 1\n",
      "agent: agent_1 | observation: (16,) | action: 4\n",
      "agent: adversary_0 | observation: (18,) | action: 0\n",
      "agent: adversary_1 | observation: (18,) | action: 4\n",
      "agent: agent_0 | observation: (16,) | action: 1\n",
      "agent: agent_1 | observation: (16,) | action: 0\n",
      "agent: adversary_0 | observation: (18,) | action: 2\n",
      "agent: adversary_1 | observation: (18,) | action: 3\n",
      "agent: agent_0 | observation: (16,) | action: 0\n",
      "agent: agent_1 | observation: (16,) | action: 0\n",
      "agent: adversary_0 | observation: (18,) | action: 1\n",
      "agent: adversary_1 | observation: (18,) | action: 1\n",
      "agent: agent_0 | observation: (16,) | action: 1\n",
      "agent: agent_1 | observation: (16,) | action: 4\n",
      "agent: adversary_0 | observation: (18,) | action: 2\n",
      "agent: adversary_1 | observation: (18,) | action: 1\n",
      "agent: agent_0 | observation: (16,) | action: 0\n",
      "agent: agent_1 | observation: (16,) | action: 1\n",
      "agent: adversary_0 | observation: (18,) | action: 3\n",
      "agent: adversary_1 | observation: (18,) | action: 2\n",
      "agent: agent_0 | observation: (16,) | action: 1\n",
      "agent: agent_1 | observation: (16,) | action: 0\n",
      "agent: adversary_0 | observation: (18,) | action: 1\n",
      "agent: adversary_1 | observation: (18,) | action: 1\n",
      "agent: agent_0 | observation: (16,) | action: 3\n",
      "agent: agent_1 | observation: (16,) | action: 3\n",
      "agent: adversary_0 | observation: (18,) | action: 1\n",
      "agent: adversary_1 | observation: (18,) | action: 1\n",
      "agent: agent_0 | observation: (16,) | action: 3\n",
      "agent: agent_1 | observation: (16,) | action: 4\n",
      "agent: adversary_0 | observation: (18,) | action: 1\n",
      "agent: adversary_1 | observation: (18,) | action: 3\n",
      "agent: agent_0 | observation: (16,) | action: 3\n",
      "agent: agent_1 | observation: (16,) | action: 4\n",
      "agent: adversary_0 | observation: (18,) | action: 0\n",
      "agent: adversary_1 | observation: (18,) | action: 0\n",
      "agent: agent_0 | observation: (16,) | action: 3\n",
      "agent: agent_1 | observation: (16,) | action: 0\n",
      "agent: adversary_0 | observation: (18,) | action: 4\n",
      "agent: adversary_1 | observation: (18,) | action: 2\n",
      "agent: agent_0 | observation: (16,) | action: 2\n",
      "agent: agent_1 | observation: (16,) | action: 2\n",
      "agent: adversary_0 | observation: (18,) | action: 0\n",
      "agent: adversary_1 | observation: (18,) | action: 2\n",
      "agent: agent_0 | observation: (16,) | action: 1\n",
      "agent: agent_1 | observation: (16,) | action: 3\n",
      "agent: adversary_0 | observation: (18,) | action: 0\n",
      "agent: adversary_1 | observation: (18,) | action: 0\n",
      "agent: agent_0 | observation: (16,) | action: 0\n",
      "agent: agent_1 | observation: (16,) | action: 1\n",
      "agent: adversary_0 | observation: (18,) | action: 1\n",
      "agent: adversary_1 | observation: (18,) | action: 2\n",
      "agent: agent_0 | observation: (16,) | action: 2\n",
      "agent: agent_1 | observation: (16,) | action: 1\n",
      "agent: adversary_0 | observation: (18,) | action: 1\n",
      "agent: adversary_1 | observation: (18,) | action: 3\n",
      "agent: agent_0 | observation: (16,) | action: 3\n",
      "agent: agent_1 | observation: (16,) | action: 3\n",
      "agent: adversary_0 | observation: (18,) | action: 1\n",
      "agent: adversary_1 | observation: (18,) | action: 1\n",
      "agent: agent_0 | observation: (16,) | action: 1\n",
      "agent: agent_1 | observation: (16,) | action: 2\n",
      "agent: adversary_0 | observation: (18,) | action: 3\n",
      "agent: adversary_1 | observation: (18,) | action: 0\n",
      "agent: agent_0 | observation: (16,) | action: 2\n",
      "agent: agent_1 | observation: (16,) | action: 4\n",
      "agent: adversary_0 | observation: (18,) | action: 3\n",
      "agent: adversary_1 | observation: (18,) | action: 0\n",
      "agent: agent_0 | observation: (16,) | action: 0\n",
      "agent: agent_1 | observation: (16,) | action: 1\n",
      "agent: adversary_0 | observation: (18,) | action: 0\n",
      "agent: adversary_1 | observation: (18,) | action: 3\n",
      "agent: agent_0 | observation: (16,) | action: 0\n",
      "agent: agent_1 | observation: (16,) | action: 2\n",
      "agent: adversary_0 | observation: (18,) | action: 2\n",
      "agent: adversary_1 | observation: (18,) | action: 1\n",
      "agent: agent_0 | observation: (16,) | action: 4\n",
      "agent: agent_1 | observation: (16,) | action: 2\n",
      "agent: adversary_0 | observation: (18,) | action: 4\n",
      "agent: adversary_1 | observation: (18,) | action: 1\n",
      "agent: agent_0 | observation: (16,) | action: 1\n",
      "agent: agent_1 | observation: (16,) | action: 3\n",
      "agent: adversary_0 | observation: (18,) | action: 2\n",
      "agent: adversary_1 | observation: (18,) | action: 0\n",
      "agent: agent_0 | observation: (16,) | action: 4\n",
      "agent: agent_1 | observation: (16,) | action: 0\n",
      "agent: adversary_0 | observation: (18,) | action: 1\n"
     ]
    },
    {
     "ename": "ValueError",
     "evalue": "when an agent is dead, the only valid action is None",
     "output_type": "error",
     "traceback": [
      "\u001b[0;31m---------------------------------------------------------------------------\u001b[0m",
      "\u001b[0;31mValueError\u001b[0m                                Traceback (most recent call last)",
      "Cell \u001b[0;32mIn[62], line 9\u001b[0m\n\u001b[1;32m      6\u001b[0m \u001b[39m#print(f\"\\t observation: {observation.shape}\")\u001b[39;00m\n\u001b[1;32m      7\u001b[0m \u001b[39m#print(f\"\\t action: {action}\")\u001b[39;00m\n\u001b[1;32m      8\u001b[0m frames\u001b[39m.\u001b[39mappend(env\u001b[39m.\u001b[39mrender())\n\u001b[0;32m----> 9\u001b[0m env\u001b[39m.\u001b[39;49mstep(action)\n\u001b[1;32m     10\u001b[0m plt\u001b[39m.\u001b[39mimshow(rendered_frame)\n",
      "File \u001b[0;32m~/dev/cogment-verse/.venv/lib/python3.9/site-packages/pettingzoo/utils/wrappers/order_enforcing.py:75\u001b[0m, in \u001b[0;36mOrderEnforcingWrapper.step\u001b[0;34m(self, action)\u001b[0m\n\u001b[1;32m     73\u001b[0m \u001b[39melse\u001b[39;00m:\n\u001b[1;32m     74\u001b[0m     \u001b[39mself\u001b[39m\u001b[39m.\u001b[39m_has_updated \u001b[39m=\u001b[39m \u001b[39mTrue\u001b[39;00m\n\u001b[0;32m---> 75\u001b[0m     \u001b[39msuper\u001b[39;49m()\u001b[39m.\u001b[39;49mstep(action)\n",
      "File \u001b[0;32m~/dev/cogment-verse/.venv/lib/python3.9/site-packages/pettingzoo/utils/wrappers/base.py:108\u001b[0m, in \u001b[0;36mBaseWrapper.step\u001b[0;34m(self, action)\u001b[0m\n\u001b[1;32m    107\u001b[0m \u001b[39mdef\u001b[39;00m \u001b[39mstep\u001b[39m(\u001b[39mself\u001b[39m, action):\n\u001b[0;32m--> 108\u001b[0m     \u001b[39mself\u001b[39;49m\u001b[39m.\u001b[39;49menv\u001b[39m.\u001b[39;49mstep(action)\n\u001b[1;32m    110\u001b[0m     \u001b[39mself\u001b[39m\u001b[39m.\u001b[39magent_selection \u001b[39m=\u001b[39m \u001b[39mself\u001b[39m\u001b[39m.\u001b[39menv\u001b[39m.\u001b[39magent_selection\n\u001b[1;32m    111\u001b[0m     \u001b[39mself\u001b[39m\u001b[39m.\u001b[39mrewards \u001b[39m=\u001b[39m \u001b[39mself\u001b[39m\u001b[39m.\u001b[39menv\u001b[39m.\u001b[39mrewards\n",
      "File \u001b[0;32m~/dev/cogment-verse/.venv/lib/python3.9/site-packages/pettingzoo/utils/wrappers/assert_out_of_bounds.py:26\u001b[0m, in \u001b[0;36mAssertOutOfBoundsWrapper.step\u001b[0;34m(self, action)\u001b[0m\n\u001b[1;32m     16\u001b[0m \u001b[39mdef\u001b[39;00m \u001b[39mstep\u001b[39m(\u001b[39mself\u001b[39m, action):\n\u001b[1;32m     17\u001b[0m     \u001b[39massert\u001b[39;00m (\n\u001b[1;32m     18\u001b[0m         action \u001b[39mis\u001b[39;00m \u001b[39mNone\u001b[39;00m\n\u001b[1;32m     19\u001b[0m         \u001b[39mand\u001b[39;00m (\n\u001b[0;32m   (...)\u001b[0m\n\u001b[1;32m     24\u001b[0m         action\n\u001b[1;32m     25\u001b[0m     ), \u001b[39m\"\u001b[39m\u001b[39maction is not in action space\u001b[39m\u001b[39m\"\u001b[39m\n\u001b[0;32m---> 26\u001b[0m     \u001b[39msuper\u001b[39;49m()\u001b[39m.\u001b[39;49mstep(action)\n",
      "File \u001b[0;32m~/dev/cogment-verse/.venv/lib/python3.9/site-packages/pettingzoo/utils/wrappers/base.py:108\u001b[0m, in \u001b[0;36mBaseWrapper.step\u001b[0;34m(self, action)\u001b[0m\n\u001b[1;32m    107\u001b[0m \u001b[39mdef\u001b[39;00m \u001b[39mstep\u001b[39m(\u001b[39mself\u001b[39m, action):\n\u001b[0;32m--> 108\u001b[0m     \u001b[39mself\u001b[39;49m\u001b[39m.\u001b[39;49menv\u001b[39m.\u001b[39;49mstep(action)\n\u001b[1;32m    110\u001b[0m     \u001b[39mself\u001b[39m\u001b[39m.\u001b[39magent_selection \u001b[39m=\u001b[39m \u001b[39mself\u001b[39m\u001b[39m.\u001b[39menv\u001b[39m.\u001b[39magent_selection\n\u001b[1;32m    111\u001b[0m     \u001b[39mself\u001b[39m\u001b[39m.\u001b[39mrewards \u001b[39m=\u001b[39m \u001b[39mself\u001b[39m\u001b[39m.\u001b[39menv\u001b[39m.\u001b[39mrewards\n",
      "File \u001b[0;32m~/dev/cogment-verse/.venv/lib/python3.9/site-packages/pettingzoo/mpe/_mpe_utils/simple_env.py:241\u001b[0m, in \u001b[0;36mSimpleEnv.step\u001b[0;34m(self, action)\u001b[0m\n\u001b[1;32m    236\u001b[0m \u001b[39mdef\u001b[39;00m \u001b[39mstep\u001b[39m(\u001b[39mself\u001b[39m, action):\n\u001b[1;32m    237\u001b[0m     \u001b[39mif\u001b[39;00m (\n\u001b[1;32m    238\u001b[0m         \u001b[39mself\u001b[39m\u001b[39m.\u001b[39mterminations[\u001b[39mself\u001b[39m\u001b[39m.\u001b[39magent_selection]\n\u001b[1;32m    239\u001b[0m         \u001b[39mor\u001b[39;00m \u001b[39mself\u001b[39m\u001b[39m.\u001b[39mtruncations[\u001b[39mself\u001b[39m\u001b[39m.\u001b[39magent_selection]\n\u001b[1;32m    240\u001b[0m     ):\n\u001b[0;32m--> 241\u001b[0m         \u001b[39mself\u001b[39;49m\u001b[39m.\u001b[39;49m_was_dead_step(action)\n\u001b[1;32m    242\u001b[0m         \u001b[39mreturn\u001b[39;00m\n\u001b[1;32m    243\u001b[0m     cur_agent \u001b[39m=\u001b[39m \u001b[39mself\u001b[39m\u001b[39m.\u001b[39magent_selection\n",
      "File \u001b[0;32m~/dev/cogment-verse/.venv/lib/python3.9/site-packages/pettingzoo/utils/env.py:219\u001b[0m, in \u001b[0;36mAECEnv._was_dead_step\u001b[0;34m(self, action)\u001b[0m\n\u001b[1;32m    201\u001b[0m \u001b[39m\u001b[39m\u001b[39m\"\"\"Helper function that performs step() for dead agents.\u001b[39;00m\n\u001b[1;32m    202\u001b[0m \n\u001b[1;32m    203\u001b[0m \u001b[39mDoes the following:\u001b[39;00m\n\u001b[0;32m   (...)\u001b[0m\n\u001b[1;32m    216\u001b[0m \u001b[39m    # main contents of step\u001b[39;00m\n\u001b[1;32m    217\u001b[0m \u001b[39m\"\"\"\u001b[39;00m\n\u001b[1;32m    218\u001b[0m \u001b[39mif\u001b[39;00m action \u001b[39mis\u001b[39;00m \u001b[39mnot\u001b[39;00m \u001b[39mNone\u001b[39;00m:\n\u001b[0;32m--> 219\u001b[0m     \u001b[39mraise\u001b[39;00m \u001b[39mValueError\u001b[39;00m(\u001b[39m\"\u001b[39m\u001b[39mwhen an agent is dead, the only valid action is None\u001b[39m\u001b[39m\"\u001b[39m)\n\u001b[1;32m    221\u001b[0m \u001b[39m# removes dead agent\u001b[39;00m\n\u001b[1;32m    222\u001b[0m agent \u001b[39m=\u001b[39m \u001b[39mself\u001b[39m\u001b[39m.\u001b[39magent_selection\n",
      "\u001b[0;31mValueError\u001b[0m: when an agent is dead, the only valid action is None"
     ]
    },
    {
     "data": {
      "image/png": "[encoded data removed]",
      "text/plain": [
       "<Figure size 640x480 with 1 Axes>"
      ]
     },
     "metadata": {},
     "output_type": "display_data"
    }
   ],
   "source": [
    "frames = []\n",
    "for agent in env.agent_iter():\n",
    "    observation, reward, termination, truncation, info = env.last()\n",
    "    action = env.action_space(agent).sample() # this is where you would insert your policy\n",
    "    print(f\"agent: {agent} | observation: {observation.shape} | action: {action}\")\n",
    "    #print(f\"\\t observation: {observation.shape}\")\n",
    "    #print(f\"\\t action: {action}\")\n",
    "    frames.append(env.render())\n",
    "    env.step(action)\n",
    "    plt.imshow(rendered_frame)"
   ]
  },
  {
   "cell_type": "code",
   "execution_count": 68,
   "metadata": {},
   "outputs": [
    {
     "data": {
      "text/plain": [
       "<matplotlib.image.AxesImage at 0x7fc10abddcd0>"
      ]
     },
     "execution_count": 68,
     "metadata": {},
     "output_type": "execute_result"
    },
    {
     "data": {
      "image/png": "[encoded data removed]",
      "text/plain": [
       "<Figure size 640x480 with 1 Axes>"
      ]
     },
     "metadata": {},
     "output_type": "display_data"
    }
   ],
   "source": [
    "plt.imshow(frames[100])"
   ]
  },
  {
   "cell_type": "code",
   "execution_count": 69,
   "metadata": {},
   "outputs": [
    {
     "data": {
      "text/plain": [
       "array([[[0, 0, 0],\n",
       "        [0, 0, 0],\n",
       "        [0, 0, 0],\n",
       "        ...,\n",
       "        [0, 0, 0],\n",
       "        [0, 0, 0],\n",
       "        [0, 0, 0]],\n",
       "\n",
       "       [[0, 0, 0],\n",
       "        [0, 0, 0],\n",
       "        [0, 0, 0],\n",
       "        ...,\n",
       "        [0, 0, 0],\n",
       "        [0, 0, 0],\n",
       "        [0, 0, 0]],\n",
       "\n",
       "       [[0, 0, 0],\n",
       "        [0, 0, 0],\n",
       "        [0, 0, 0],\n",
       "        ...,\n",
       "        [0, 0, 0],\n",
       "        [0, 0, 0],\n",
       "        [0, 0, 0]],\n",
       "\n",
       "       ...,\n",
       "\n",
       "       [[0, 0, 0],\n",
       "        [0, 0, 0],\n",
       "        [0, 0, 0],\n",
       "        ...,\n",
       "        [0, 0, 0],\n",
       "        [0, 0, 0],\n",
       "        [0, 0, 0]],\n",
       "\n",
       "       [[0, 0, 0],\n",
       "        [0, 0, 0],\n",
       "        [0, 0, 0],\n",
       "        ...,\n",
       "        [0, 0, 0],\n",
       "        [0, 0, 0],\n",
       "        [0, 0, 0]],\n",
       "\n",
       "       [[0, 0, 0],\n",
       "        [0, 0, 0],\n",
       "        [0, 0, 0],\n",
       "        ...,\n",
       "        [0, 0, 0],\n",
       "        [0, 0, 0],\n",
       "        [0, 0, 0]]], dtype=uint8)"
      ]
     },
     "execution_count": 69,
     "metadata": {},
     "output_type": "execute_result"
    }
   ],
   "source": [
    "frames[100]"
   ]
  },
  {
   "cell_type": "code",
   "execution_count": null,
   "metadata": {},
   "outputs": [],
   "source": []
  },
  {
   "cell_type": "code",
   "execution_count": null,
   "metadata": {},
   "outputs": [],
   "source": []
  }
 ],
 "metadata": {
  "kernelspec": {
   "display_name": ".venv",
   "language": "python",
   "name": "python3"
  },
  "language_info": {
   "codemirror_mode": {
    "name": "ipython",
    "version": 3
   },
   "file_extension": ".py",
   "mimetype": "text/x-python",
   "name": "python",
   "nbconvert_exporter": "python",
   "pygments_lexer": "ipython3",
   "version": "3.9.16"
  },
  "orig_nbformat": 4,
  "vscode": {
   "interpreter": {
    "hash": "ff55a71747f840c7b6e33248b46cb40245ff20b6d08dfd45922763a0ef363d01"
   }
  }
 },
 "nbformat": 4,
 "nbformat_minor": 2
}
