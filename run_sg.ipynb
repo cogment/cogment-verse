{
 "cells": [
  {
   "attachments": {},
   "cell_type": "markdown",
   "metadata": {},
   "source": [
    "### AWS Account Info"
   ]
  },
  {
   "cell_type": "code",
   "execution_count": null,
   "metadata": {},
   "outputs": [],
   "source": [
    "import sagemaker\n",
    "sess = sagemaker.Session()\n",
    "\n",
    "role = 'arn:aws:iam::062336837736:role/Developer'\n",
    "account = sess.boto_session.client('sts').get_caller_identity()['Account']\n",
    "region = sess.boto_session.region_name\n",
    "print(region)\n",
    "print(account)\n",
    "print(role)\n",
    "print(sess.boto_session.profile_name)"
   ]
  },
  {
   "attachments": {},
   "cell_type": "markdown",
   "metadata": {},
   "source": [
    "### Build & Push Docker Image"
   ]
  },
  {
   "attachments": {},
   "cell_type": "markdown",
   "metadata": {},
   "source": [
    "#### Variables for Docker Image"
   ]
  },
  {
   "cell_type": "code",
   "execution_count": null,
   "metadata": {},
   "outputs": [],
   "source": [
    "image = 'cog_verse'\n",
    "bucket_name   = sess.default_bucket()\n",
    "base_job_name = 'cog-verse-training'\n",
    "%env image {image}\n",
    "%env account {account}\n",
    "%env region {region}\n",
    "%env bucket_name {bucket_name}\n",
    "%env base_job_name = {base_job_name}"
   ]
  },
  {
   "attachments": {},
   "cell_type": "markdown",
   "metadata": {},
   "source": [
    "#### Build Image"
   ]
  },
  {
   "cell_type": "code",
   "execution_count": null,
   "metadata": {},
   "outputs": [],
   "source": [
    "%%sh \n",
    "bash ./build_and_push.sh $image"
   ]
  },
  {
   "attachments": {},
   "cell_type": "markdown",
   "metadata": {},
   "source": [
    "#### Push Image to ECR"
   ]
  },
  {
   "cell_type": "code",
   "execution_count": null,
   "metadata": {},
   "outputs": [],
   "source": [
    "!docker push $account.dkr.ecr.$region.amazonaws.com/${image}:latest"
   ]
  },
  {
   "attachments": {},
   "cell_type": "markdown",
   "metadata": {},
   "source": [
    "### Training"
   ]
  },
  {
   "attachments": {},
   "cell_type": "markdown",
   "metadata": {},
   "source": [
    "#### Local Test"
   ]
  },
  {
   "cell_type": "code",
   "execution_count": null,
   "metadata": {},
   "outputs": [],
   "source": [
    "# Training setup\n",
    "base_job_name = 'lstm-training'\n",
    "output_path = f\"s3://{bucket_name}/{image}/output\"\n",
    "image_name = f\"{account}.dkr.ecr.{region}.amazonaws.com/{image}:latest\"\n",
    "train_input_path_local = 'file://'+'./input/data'+'/training'\n",
    "\n",
    "estimator = sagemaker.estimator.Estimator(image_uri=image_name,\n",
    "                       base_job_name=base_job_name,\n",
    "                       role=role, \n",
    "                       instance_count=1, \n",
    "                       output_path=output_path,\n",
    "                       instance_type='local')\n",
    "estimator.set_hyperparameters(bucket_name=bucket_name, source_dir=f\"{image}/src/\")\n",
    "estimator.fit({'training': train_input_path_local})\n",
    "\n",
    "# Verification\n",
    "print(f\"output_path: {output_path}\")\n",
    "print(f\"image_name: {image_name}\")"
   ]
  },
  {
   "attachments": {},
   "cell_type": "markdown",
   "metadata": {},
   "source": [
    "#### AWS Run"
   ]
  },
  {
   "cell_type": "code",
   "execution_count": null,
   "metadata": {},
   "outputs": [],
   "source": [
    "# Training setup\n",
    "output_path = f\"s3://{bucket_name}/{image}/output\"\n",
    "image_name = f\"{account}.dkr.ecr.{region}.amazonaws.com/{image}:latest\"\n",
    "tag_name = [{'Key': 'lavo', 'Value': 'lstm-training'}]\n",
    "\n",
    "estimator = sagemaker.estimator.Estimator(image_uri=image_name,\n",
    "                       base_job_name=base_job_name,\n",
    "                       role=role, \n",
    "                       instance_count=1, \n",
    "                       instance_type='ml.m5.large',\n",
    "                       volume_size=16,\n",
    "                       tags=tag_name,\n",
    "                       source_dir='.cogment_verse',\n",
    "                       output_path=output_path,\n",
    "                       sagemaker_session=sess)\n",
    "hyperparameters = {\n",
    "    'main_args': \"ppo_atari_pz/pong_pz\"\n",
    "}\n",
    "estimator.fit(hyperparameters=hyperparameters)\n",
    "\n",
    "# Verification\n",
    "print(f\"output_path: {output_path}\")\n",
    "print(f\"image_name: {image_name}\")\n"
   ]
  }
 ],
 "metadata": {
  "language_info": {
   "name": "python"
  },
  "orig_nbformat": 4
 },
 "nbformat": 4,
 "nbformat_minor": 2
}
