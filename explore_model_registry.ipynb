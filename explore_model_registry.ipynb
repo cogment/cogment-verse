{
 "cells": [
  {
   "attachments": {},
   "cell_type": "markdown",
   "metadata": {},
   "source": [
    "# Explore Model Registry Content\n",
    "\n",
    "This notebook is meant to explore the content of the model registry. Such as:\n",
    "- Listing all available models and their corresponding info\n",
    "- Listing all available versions and info about a specific model.\n",
    "\n",
    "### Please duplicate the notebook to start your work and keep the template intact.\n",
    "\n",
    "## Before running the notebook\n",
    "The trial datastore process must be started prior to running the notebook. Make sure you open a terminal, activate the .venv environment, run:\n",
    "```\n",
    "python -m launch_local_services\n",
    "```\n",
    "\n",
    "Once you are done with working in this notebook, close the terminal window."
   ]
  },
  {
   "attachments": {},
   "cell_type": "markdown",
   "metadata": {},
   "source": [
    "## Cogment Setup"
   ]
  },
  {
   "cell_type": "code",
   "execution_count": 1,
   "metadata": {},
   "outputs": [],
   "source": [
    "import os\n",
    "import sys\n",
    "\n",
    "ROOT_DIR = os.path.abspath(os.path.join(os.getcwd()))\n",
    "sys.path.append(ROOT_DIR)\n",
    "\n",
    "from cogment_verse.utils.generate import generate\n",
    "from cogment_verse.app import SPEC_FILEPATH\n",
    "\n",
    "WORK_DIR = os.path.join(ROOT_DIR, \".cogment_verse\")\n",
    "\n",
    "generate(WORK_DIR, SPEC_FILEPATH)"
   ]
  },
  {
   "cell_type": "code",
   "execution_count": 3,
   "metadata": {},
   "outputs": [],
   "source": [
    "import asyncio\n",
    "import functools\n",
    "import re\n",
    "import json\n",
    "from dataclasses import dataclass, field\n",
    "from datetime import datetime\n",
    "from typing import List\n",
    "\n",
    "import cogment\n",
    "import numpy as np\n",
    "import pandas as pd\n",
    "from cogment.control import TrialState\n",
    "from tabulate import tabulate\n",
    "\n",
    "from cogment_verse.specs import (\n",
    "    AgentConfig,\n",
    "    cog_settings,\n",
    "    EnvironmentConfig,\n",
    "    EnvironmentSpecs,\n",
    "    HUMAN_ACTOR_IMPL,\n",
    "    PLAYER_ACTOR_CLASS,\n",
    "    TEACHER_ACTOR_CLASS,\n",
    "    WEB_ACTOR_NAME,\n",
    ")\n",
    "from cogment_verse.specs.ndarray_serialization import deserialize_ndarray, serialize_ndarray\n",
    "from cogment_verse.services_directory import ServiceDirectory,ServiceType\n",
    "from cogment_verse.model_registry import ModelRegistry\n",
    "\n",
    "MODEL_REGISTRY_ENDPOINT = \"grpc://localhost:9002\"\n",
    "\n",
    "service_directory = ServiceDirectory()\n",
    "service_directory.add(\n",
    "    service_type=ServiceType.MODEL_REGISTRY,\n",
    "    service_endpoint=MODEL_REGISTRY_ENDPOINT,\n",
    ")\n",
    "model_registry = ModelRegistry(service_directory)"
   ]
  },
  {
   "cell_type": "code",
   "execution_count": 6,
   "metadata": {},
   "outputs": [
    {
     "name": "stderr",
     "output_type": "stream",
     "text": [
      "usage: ipykernel_launcher.py [--help] [--hydra-help] [--version]\n",
      "                             [--cfg {job,hydra,all}] [--resolve]\n",
      "                             [--package PACKAGE] [--run] [--multirun]\n",
      "                             [--shell-completion] [--config-path CONFIG_PATH]\n",
      "                             [--config-name CONFIG_NAME]\n",
      "                             [--config-dir CONFIG_DIR]\n",
      "                             [--experimental-rerun EXPERIMENTAL_RERUN]\n",
      "                             [--info [{all,config,defaults,defaults-tree,plugins,searchpath}]]\n",
      "                             [overrides ...]\n",
      "ipykernel_launcher.py: error: unrecognized arguments: -f\n"
     ]
    },
    {
     "ename": "SystemExit",
     "evalue": "2",
     "output_type": "error",
     "traceback": [
      "An exception has occurred, use %tb to see the full traceback.\n",
      "\u001b[0;31mSystemExit\u001b[0m\u001b[0;31m:\u001b[0m 2\n"
     ]
    },
    {
     "name": "stderr",
     "output_type": "stream",
     "text": [
      "/home/william/dev/cogment-verse/.venv/lib/python3.9/site-packages/IPython/core/interactiveshell.py:3468: UserWarning: To exit: use 'exit', 'quit', or Ctrl-D.\n",
      "  warn(\"To exit: use 'exit', 'quit', or Ctrl-D.\", stacklevel=1)\n"
     ]
    }
   ],
   "source": [
    "import logging\n",
    "import os\n",
    "import subprocess\n",
    "import time\n",
    "\n",
    "import hydra\n",
    "import pytest\n",
    "from hydra import compose, initialize\n",
    "from hydra.core.hydra_config import HydraConfig\n",
    "from hydra.core.global_hydra import GlobalHydra\n",
    "from omegaconf import OmegaConf\n",
    "\n",
    "import cogment_verse\n",
    "from cogment_verse.constants import CONFIG_DIR, DEFAULT_CONFIG_NAME, DEFAULT_WORK_DIR, TEST_DIR\n",
    "from cogment_verse.processes.popen_process import PopenProcess\n",
    "from cogment_verse.services_directory import ServiceType\n",
    "\n",
    "\n",
    "log = logging.getLogger(__name__)\n",
    "\n",
    "\n",
    "def on_cra_log(_name, log_line):\n",
    "    log.info(log_line)\n",
    "\n",
    "@hydra.main(version_base=None, config_path=CONFIG_DIR, config_name=DEFAULT_CONFIG_NAME)\n",
    "def test_simple_dqn_cartpole():\n",
    "\n",
    "    # GlobalHydra.instance().clear()\n",
    "    # GlobalHydra.instance().initialize(version_base=None, config_path=CONFIG_REL_PATH, job_name=\"functional_test\")\n",
    "    # cfg = compose(config_name=DEFAULT_CONFIG_NAME)\n",
    "    # print(OmegaConf.to_yaml(cfg))\n",
    "\n",
    "  # PopenProcess(\n",
    "  #     name=\"test\",\n",
    "  #     args=[\"HYDRA_FULL_ERROR=1\", \"python\", \"-m\", \"main\", \"+experiment=simple_dqn/cartpole\"],\n",
    "  #     on_log=on_cra_log\n",
    "  # )\n",
    "  process = subprocess.run(args=[\"python\", \"-m\", \"main\", \"+experiment=simple_dqn/cartpole\"])\n",
    "\n",
    "\n",
    "\n",
    "test_simple_dqn_cartpole()\n",
    "\n"
   ]
  },
  {
   "cell_type": "code",
   "execution_count": null,
   "metadata": {},
   "outputs": [],
   "source": []
  },
  {
   "cell_type": "code",
   "execution_count": null,
   "metadata": {},
   "outputs": [],
   "source": []
  },
  {
   "attachments": {},
   "cell_type": "markdown",
   "metadata": {},
   "source": [
    "## Retrieve all model info"
   ]
  },
  {
   "cell_type": "code",
   "execution_count": 3,
   "metadata": {},
   "outputs": [
    {
     "name": "stdout",
     "output_type": "stream",
     "text": [
      "*** ALL AVAILABLE MODELS ***\n"
     ]
    }
   ],
   "source": [
    "model_infos = await model_registry.list_models()\n",
    "\n",
    "print(\"*** ALL AVAILABLE MODELS ***\")\n",
    "for model_info in model_infos:\n",
    "    print(json.dumps(model_info, indent=4))"
   ]
  },
  {
   "attachments": {},
   "cell_type": "markdown",
   "metadata": {},
   "source": [
    "## Retrieve version info about specific model"
   ]
  },
  {
   "cell_type": "code",
   "execution_count": 24,
   "metadata": {},
   "outputs": [
    {
     "name": "stdout",
     "output_type": "stream",
     "text": [
      "Versions available: 20\n",
      "*** ONLY PRINTING THE 3 LATEST VERSIONS ***\n",
      "{\n",
      "    \"model_id\": \"tender_lamport_0_model\",\n",
      "    \"version_number\": 18,\n",
      "    \"creation_timestamp\": \"1675293570602968228\",\n",
      "    \"archived\": true,\n",
      "    \"data_hash\": \"D7ELnjsasTVa0mBRekuGHe6lBKeCcoIQl8vSrroEiWw=\",\n",
      "    \"data_size\": \"26613\",\n",
      "    \"user_data\": {\n",
      "        \"total_samples\": \"0\"\n",
      "    }\n",
      "}\n",
      "{\n",
      "    \"model_id\": \"tender_lamport_0_model\",\n",
      "    \"version_number\": 19,\n",
      "    \"creation_timestamp\": \"1675293579883061441\",\n",
      "    \"archived\": true,\n",
      "    \"data_hash\": \"XYdS/k9POjYmUfydMgSUXC6yOIUvOOakUg5hkZmtrFA=\",\n",
      "    \"data_size\": \"26613\",\n",
      "    \"user_data\": {\n",
      "        \"total_samples\": \"0\"\n",
      "    }\n",
      "}\n",
      "{\n",
      "    \"model_id\": \"tender_lamport_0_model\",\n",
      "    \"version_number\": 20,\n",
      "    \"creation_timestamp\": \"1675293580245390754\",\n",
      "    \"archived\": true,\n",
      "    \"data_hash\": \"BTjbDqM/W+KCMD+163Gye9oadMqLaVHFTnruwpgN0Rs=\",\n",
      "    \"data_size\": \"26613\",\n",
      "    \"user_data\": {\n",
      "        \"total_samples\": \"0\"\n",
      "    }\n",
      "}\n"
     ]
    }
   ],
   "source": [
    "model_id = \"tender_lamport_0_model\"\n",
    "version_infos = await model_registry.list_model_versions(model_id)\n",
    "\n",
    "print(f\"Versions available: {len(version_infos)+1}\")\n",
    "print(\"*** ONLY PRINTING THE 3 LATEST VERSIONS ***\")\n",
    "for version in version_infos[-3:]:\n",
    "    print(json.dumps(version, indent=4))"
   ]
  },
  {
   "cell_type": "code",
   "execution_count": null,
   "metadata": {},
   "outputs": [],
   "source": []
  }
 ],
 "metadata": {
  "kernelspec": {
   "display_name": ".venv",
   "language": "python",
   "name": "python3"
  },
  "language_info": {
   "codemirror_mode": {
    "name": "ipython",
    "version": 3
   },
   "file_extension": ".py",
   "mimetype": "text/x-python",
   "name": "python",
   "nbconvert_exporter": "python",
   "pygments_lexer": "ipython3",
   "version": "3.9.16"
  },
  "orig_nbformat": 4,
  "vscode": {
   "interpreter": {
    "hash": "ff55a71747f840c7b6e33248b46cb40245ff20b6d08dfd45922763a0ef363d01"
   }
  }
 },
 "nbformat": 4,
 "nbformat_minor": 2
}
