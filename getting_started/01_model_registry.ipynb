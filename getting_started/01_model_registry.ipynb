{
 "cells": [
  {
   "attachments": {},
   "cell_type": "markdown",
   "metadata": {},
   "source": [
    "# Explore Model Registry Content\n",
    "\n",
    "This notebook is meant to explore the content of the model registry. Such as:\n",
    "- Listing all available models and their corresponding info\n",
    "- Listing all available versions and info about a specific model.\n",
    "\n",
    "### Please duplicate the notebook to start your work and keep the template intact.\n",
    "\n",
    "## Before running the notebook\n",
    "The trial datastore process must be started prior to running the notebook. Make sure you open a terminal, activate the .venv environment, run:\n",
    "```\n",
    "python -m launch_local_services\n",
    "```\n",
    "\n",
    "Once you are done with working in this notebook, close the terminal window."
   ]
  },
  {
   "attachments": {},
   "cell_type": "markdown",
   "metadata": {},
   "source": [
    "## Cogment Setup\n",
    "\n",
    "Once the cell has finished running without any errors, you should now have access to the Cogment features provided by the code in the cell.\n",
    "\n",
    "Continue with the subsequent cells or tasks in your Jupyter Notebook that utilize the Cogment features."
   ]
  },
  {
   "cell_type": "code",
   "execution_count": null,
   "metadata": {},
   "outputs": [],
   "source": [
    "import os\n",
    "import sys\n",
    "\n",
    "ROOT_DIR = os.path.abspath(os.path.join(os.getcwd(), \"../\"))\n",
    "sys.path.append(ROOT_DIR)\n",
    "\n",
    "from cogment_verse.utils.generate import generate\n",
    "from cogment_verse.app import SPEC_FILEPATH\n",
    "\n",
    "WORK_DIR = os.path.join(ROOT_DIR, \".cogment_verse\")\n",
    "\n",
    "generate(WORK_DIR, SPEC_FILEPATH)"
   ]
  },
  {
   "attachments": {},
   "cell_type": "markdown",
   "metadata": {},
   "source": [
    "## Imports\n",
    "\n",
    "Ensure that all the necessary dependencies and libraries are installed in your Python environment"
   ]
  },
  {
   "cell_type": "code",
   "execution_count": null,
   "metadata": {},
   "outputs": [],
   "source": [
    "import cogment\n",
    "\n",
    "from cogment_verse.services_directory import ServiceDirectory, ServiceType\n",
    "from cogment_verse.specs import cog_settings\n",
    "\n",
    "MODEL_REGISTRY_ENDPOINT = \"grpc://localhost:9002\"\n",
    "\n",
    "service_directory = ServiceDirectory()\n",
    "service_directory.add(\n",
    "    service_type=ServiceType.MODEL_REGISTRY,\n",
    "    service_endpoint=MODEL_REGISTRY_ENDPOINT,\n",
    ")\n",
    "\n",
    "context = cogment.Context(cog_settings=cog_settings, user_id=\"cogment_verse_run\")\n",
    "model_registry = await service_directory.get_model_registry(context)"
   ]
  },
  {
   "attachments": {},
   "cell_type": "markdown",
   "metadata": {},
   "source": [
    "## Retrieve all model info"
   ]
  },
  {
   "cell_type": "code",
   "execution_count": null,
   "metadata": {},
   "outputs": [],
   "source": [
    "model_infos = await model_registry.list_models()\n",
    "\n",
    "print(\"*** ALL AVAILABLE MODELS ***\")\n",
    "for model_info in model_infos:\n",
    "    print(str(model_info))"
   ]
  },
  {
   "attachments": {},
   "cell_type": "markdown",
   "metadata": {},
   "source": [
    "## Retrieve iteration info of a specific model"
   ]
  },
  {
   "cell_type": "code",
   "execution_count": null,
   "metadata": {},
   "outputs": [],
   "source": [
    "model_id = \"zealous_brown_0_model\"\n",
    "iteration_infos = await model_registry.list_iterations(model_id)\n",
    "\n",
    "print(f\"Versions available: {len(iteration_infos)+1}\")\n",
    "print(\"*** ONLY PRINTING THE 3 LATEST VERSIONS ***\")\n",
    "for iteration in iteration_infos[-3:]:\n",
    "    print(str(iteration))"
   ]
  },
  {
   "cell_type": "code",
   "execution_count": null,
   "metadata": {},
   "outputs": [],
   "source": []
  }
 ],
 "metadata": {
  "kernelspec": {
   "display_name": ".venv",
   "language": "python",
   "name": "python3"
  },
  "language_info": {
   "codemirror_mode": {
    "name": "ipython",
    "version": 3
   },
   "file_extension": ".py",
   "mimetype": "text/x-python",
   "name": "python",
   "nbconvert_exporter": "python",
   "pygments_lexer": "ipython3",
   "version": "3.9.16"
  },
  "orig_nbformat": 4,
  "vscode": {
   "interpreter": {
    "hash": "ff55a71747f840c7b6e33248b46cb40245ff20b6d08dfd45922763a0ef363d01"
   }
  }
 },
 "nbformat": 4,
 "nbformat_minor": 2
}
