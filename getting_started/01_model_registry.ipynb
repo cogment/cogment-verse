{
 "cells": [
  {
   "attachments": {},
   "cell_type": "markdown",
   "metadata": {},
   "source": [
    "# Explore Model Registry Content\n",
    "\n",
    "This notebook is meant to explore the content of the model registry. \n",
    "\n",
    "Example use:\n",
    "- Listing all available models and their corresponding info\n",
    "- Listing all available versions and info about a specific model.\n",
    "\n",
    "## Prior to running the notebook\n",
    "The model registry and orchestrator process must be started prior to running the notebook. To start the processes:\n",
    "  1. Open a terminal\n",
    "  2. Activate the `.venv` environment\n",
    "  3. Run:\n",
    "      ```\n",
    "      python -m launch_local_services\n",
    "      ```\n",
    "\n",
    "Once you are done with working in this notebook, close the terminal process to stop the cogment services."
   ]
  },
  {
   "attachments": {},
   "cell_type": "markdown",
   "metadata": {},
   "source": [
    "## Cogment Setup\n",
    "\n",
    "Necessary for the notebook to communicate with Cogment services."
   ]
  },
  {
   "cell_type": "code",
   "execution_count": null,
   "metadata": {},
   "outputs": [],
   "source": [
    "import os\n",
    "import sys\n",
    "\n",
    "ROOT_DIR = os.path.abspath(os.path.join(os.getcwd(), \"../\"))\n",
    "sys.path.append(ROOT_DIR)\n",
    "\n",
    "from cogment_verse.utils.generate import generate\n",
    "from cogment_verse.app import SPEC_FILEPATH\n",
    "\n",
    "WORK_DIR = os.path.join(ROOT_DIR, \".cogment_verse\")\n",
    "\n",
    "generate(WORK_DIR, SPEC_FILEPATH)\n",
    "\n",
    "MODEL_REGISTRY_ENDPOINT = \"grpc://localhost:9002\""
   ]
  },
  {
   "attachments": {},
   "cell_type": "markdown",
   "metadata": {},
   "source": [
    "## Imports\n",
    "\n",
    "Install the necessary dependencies and libraries in your Python environment"
   ]
  },
  {
   "cell_type": "code",
   "execution_count": null,
   "metadata": {},
   "outputs": [],
   "source": [
    "import cogment\n",
    "\n",
    "from cogment_verse.services_directory import ServiceDirectory, ServiceType\n",
    "from cogment_verse.specs import cog_settings\n",
    "\n",
    "service_directory = ServiceDirectory()\n",
    "service_directory.add(\n",
    "    service_type=ServiceType.MODEL_REGISTRY,\n",
    "    service_endpoint=MODEL_REGISTRY_ENDPOINT,\n",
    ")\n",
    "\n",
    "context = cogment.Context(cog_settings=cog_settings, user_id=\"cogment_verse_run\")\n",
    "model_registry = await service_directory.get_model_registry(context)"
   ]
  },
  {
   "attachments": {},
   "cell_type": "markdown",
   "metadata": {},
   "source": [
    "## Retrieve all model info"
   ]
  },
  {
   "cell_type": "code",
   "execution_count": null,
   "metadata": {},
   "outputs": [],
   "source": [
    "model_infos = await model_registry.list_models()\n",
    "\n",
    "print(\"*** ALL AVAILABLE MODELS ***\")\n",
    "for model_info in model_infos:\n",
    "    print(str(model_info))"
   ]
  },
  {
   "attachments": {},
   "cell_type": "markdown",
   "metadata": {},
   "source": [
    "## Retrieve iteration info of a specific model"
   ]
  },
  {
   "cell_type": "code",
   "execution_count": null,
   "metadata": {},
   "outputs": [],
   "source": [
    "# **** Change this model id by an actual model id returned by the previous cell.\n",
    "model_id = \"example_model_id_0_model\"\n",
    "iteration_infos = await model_registry.list_iterations(model_id)\n",
    "\n",
    "print(f\"Versions available: {len(iteration_infos)+1}\")\n",
    "print(\"*** ONLY PRINTING THE 3 LATEST VERSIONS ***\")\n",
    "for iteration in iteration_infos[-3:]:\n",
    "    print(str(iteration))"
   ]
  }
 ],
 "metadata": {
  "kernelspec": {
   "display_name": ".venv",
   "language": "python",
   "name": "python3"
  },
  "language_info": {
   "codemirror_mode": {
    "name": "ipython",
    "version": 3
   },
   "file_extension": ".py",
   "mimetype": "text/x-python",
   "name": "python",
   "nbconvert_exporter": "python",
   "pygments_lexer": "ipython3",
   "version": "3.9.16"
  },
  "orig_nbformat": 4,
  "vscode": {
   "interpreter": {
    "hash": "ff55a71747f840c7b6e33248b46cb40245ff20b6d08dfd45922763a0ef363d01"
   }
  }
 },
 "nbformat": 4,
 "nbformat_minor": 2
}
