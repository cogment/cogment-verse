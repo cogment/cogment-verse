{
 "cells": [
  {
   "attachments": {},
   "cell_type": "markdown",
   "metadata": {},
   "source": [
    "# Data Exploration\n",
    "\n",
    "This notebook is meant to be a template for exploration of data collected from trials.\n",
    "\n",
    "## Before running the notebook\n",
    "The trial datastore process must be started prior to running the notebook. Make sure you open a terminal, activate the `.venv` environment, then run:\n",
    "```\n",
    "python -m launch_local_services\n",
    "```\n",
    "\n",
    "Once you are done with working in this notebook, close the terminal window."
   ]
  },
  {
   "attachments": {},
   "cell_type": "markdown",
   "metadata": {},
   "source": [
    "## Cogment Setup"
   ]
  },
  {
   "cell_type": "code",
   "execution_count": null,
   "metadata": {},
   "outputs": [],
   "source": [
    "import os\n",
    "import sys\n",
    "\n",
    "ROOT_DIR = os.path.abspath(os.path.join(os.getcwd(), \"../\"))\n",
    "sys.path.append(ROOT_DIR)\n",
    "\n",
    "from cogment_verse.utils.generate import generate\n",
    "from cogment_verse.app import SPEC_FILEPATH\n",
    "\n",
    "WORK_DIR = os.path.join(ROOT_DIR, \".cogment_verse\")\n",
    "\n",
    "generate(WORK_DIR, SPEC_FILEPATH)"
   ]
  },
  {
   "cell_type": "code",
   "execution_count": null,
   "metadata": {},
   "outputs": [],
   "source": [
    "import asyncio\n",
    "import functools\n",
    "import re\n",
    "from dataclasses import dataclass, field\n",
    "from datetime import datetime\n",
    "from typing import List\n",
    "\n",
    "import cogment\n",
    "import numpy as np\n",
    "import pandas as pd\n",
    "from cogment.control import TrialState\n",
    "from tabulate import tabulate\n",
    "from utils import get_trial_ids, get_trial_data\n",
    "\n",
    "from cogment_verse.specs import (\n",
    "    AgentConfig,\n",
    "    cog_settings,\n",
    "    EnvironmentConfig,\n",
    "    EnvironmentSpecs,\n",
    "    HUMAN_ACTOR_IMPL,\n",
    "    PLAYER_ACTOR_CLASS,\n",
    "    TEACHER_ACTOR_CLASS,\n",
    "    WEB_ACTOR_NAME,\n",
    ")\n",
    "from cogment_verse.specs.ndarray_serialization import deserialize_ndarray, serialize_ndarray\n",
    "\n",
    "\n",
    "TRIAL_DATASTORE_ENDPOINT = \"grpc://localhost:9001\""
   ]
  },
  {
   "attachments": {},
   "cell_type": "markdown",
   "metadata": {},
   "source": [
    "## Extract trial ids from datastore"
   ]
  },
  {
   "cell_type": "code",
   "execution_count": null,
   "metadata": {},
   "outputs": [],
   "source": [
    "trial_ids = await get_trial_ids(TRIAL_DATASTORE_ENDPOINT)\n",
    "print(f\"Trial ids count: {len(trial_ids)}\")\n",
    "print(f\"first 10 trial ids: [{', '.join(trial_ids[:10])}]\")"
   ]
  },
  {
   "attachments": {},
   "cell_type": "markdown",
   "metadata": {},
   "source": [
    "## Extract Trial Data\n",
    "\n",
    "Example extracting trial info and `samples` for all trials in the datastore.\n",
    "\n",
    "If only interested in a single or specific set of trial ids, simply pass elements in the list argument `trial_ids` of the function `get_trial_data`."
   ]
  },
  {
   "cell_type": "code",
   "execution_count": null,
   "metadata": {},
   "outputs": [],
   "source": [
    "trial_data = await get_trial_data(TRIAL_DATASTORE_ENDPOINT, trial_ids=[])"
   ]
  },
  {
   "attachments": {},
   "cell_type": "markdown",
   "metadata": {},
   "source": [
    "To retrieve the info and samples from a specific trial, change the value of `test_trial_id` to an actual trial id."
   ]
  },
  {
   "cell_type": "code",
   "execution_count": null,
   "metadata": {},
   "outputs": [],
   "source": [
    "test_trial_id = \"trusting_clarke_0_0\"\n",
    "\n",
    "# Trial info about a specific trial ID\n",
    "info = trial_data[test_trial_id][\"trial_info\"]\n",
    "\n",
    "# List of samples for specific Trial ID\n",
    "samples = trial_data[test_trial_id][\"samples\"]\n",
    "print(f\"Number of samples in trial: {len(samples)}\")"
   ]
  },
  {
   "attachments": {},
   "cell_type": "markdown",
   "metadata": {},
   "source": [
    "## Inspect Trial Data\n",
    "\n",
    "Each trial comes with a set of generic information about the trial. It is an instance of `TrialInfo` class. \n",
    "\n",
    "For more information about the `TrialInfo` class, see https://cogment.ai/docs/reference/python#class-trialinfo. "
   ]
  },
  {
   "cell_type": "code",
   "execution_count": null,
   "metadata": {},
   "outputs": [],
   "source": [
    "print(f\"Trial ID: {info.trial_id}\")\n",
    "print(f\"Trial State: {info.trial_state}\")\n",
    "print(f\"Number of steps: {info.sample_count}\")\n",
    "\n",
    "print(f\"Environment Implementation: {print(info.parameters.environment_implementation)}\")\n",
    "print(f\"Environment Config: {info.parameters.environment_config}\")"
   ]
  },
  {
   "attachments": {},
   "cell_type": "markdown",
   "metadata": {},
   "source": [
    "## Inspect Sample\n",
    "\n",
    "Each sample from the trial datastore is an instance of the `DatastoreSample` class. \n",
    "\n",
    "For more info on the `DatastoreSample` class, see: https://cogment.ai/docs/reference/python#class-datastoresample\n",
    "\n",
    "\n"
   ]
  },
  {
   "cell_type": "code",
   "execution_count": null,
   "metadata": {},
   "outputs": [],
   "source": [
    "sample = samples[0]\n",
    "print(sample)\n",
    "\n",
    "environment_specs = EnvironmentSpecs.deserialize(info.parameters.actors[0].config.environment_specs)\n",
    "action_space = environment_specs.get_action_space()\n",
    "observation_space = environment_specs.get_observation_space()\n",
    "\n",
    "# General Sample info\n",
    "print(f\"Trial ID: {sample.trial_id}\")\n",
    "print(f\"Trial State: {sample.trial_state}\")\n",
    "print(f\"Step: {sample.tick_id}\")\n",
    "print(f\"Timestamp: {sample.timestamp}\")\n",
    "\n",
    "# Actor observation, action, reward\n",
    "print(f\"Actors: {list(sample.actors_data.keys())}\")\n",
    "cogment_obs = sample.actors_data[\"web_actor\"].observation\n",
    "cogment_action = sample.actors_data[\"web_actor\"].action\n",
    "reward = sample.actors_data[\"web_actor\"].reward\n",
    "\n",
    "state = observation_space.deserialize(cogment_obs).value\n",
    "print(f\"State: {state}\")\n",
    "\n",
    "action = action_space.deserialize(cogment_action).value\n",
    "print(f\"Action: {action}\")\n",
    "\n",
    "print(f\"Reward: {reward}\")"
   ]
  },
  {
   "cell_type": "code",
   "execution_count": null,
   "metadata": {},
   "outputs": [],
   "source": []
  }
 ],
 "metadata": {
  "kernelspec": {
   "display_name": ".venv",
   "language": "python",
   "name": "python3"
  },
  "language_info": {
   "codemirror_mode": {
    "name": "ipython",
    "version": 3
   },
   "file_extension": ".py",
   "mimetype": "text/x-python",
   "name": "python",
   "nbconvert_exporter": "python",
   "pygments_lexer": "ipython3",
   "version": "3.9.16"
  },
  "orig_nbformat": 4,
  "vscode": {
   "interpreter": {
    "hash": "ff55a71747f840c7b6e33248b46cb40245ff20b6d08dfd45922763a0ef363d01"
   }
  }
 },
 "nbformat": 4,
 "nbformat_minor": 2
}
