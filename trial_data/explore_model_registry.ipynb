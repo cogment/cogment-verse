{
 "cells": [
  {
   "attachments": {},
   "cell_type": "markdown",
   "metadata": {},
   "source": [
    "# Explore Model Registry Content\n",
    "\n",
    "This notebook is meant to explore the content of the model registry. Such as:\n",
    "- Listing all available models and their corresponding info\n",
    "- Listing all available versions and info about a specific model.\n",
    "\n",
    "### Please duplicate the notebook to start your work and keep the template intact.\n",
    "\n",
    "## Before running the notebook\n",
    "The trial datastore process must be started prior to running the notebook. Make sure you open a terminal, activate the .venv environment, run:\n",
    "```\n",
    "python -m launch_local_services\n",
    "```\n",
    "\n",
    "Once you are done with working in this notebook, close the terminal window."
   ]
  },
  {
   "attachments": {},
   "cell_type": "markdown",
   "metadata": {},
   "source": [
    "## Cogment Setup"
   ]
  },
  {
   "cell_type": "code",
   "execution_count": null,
   "metadata": {},
   "outputs": [],
   "source": [
    "import os\n",
    "import sys\n",
    "\n",
    "ROOT_DIR = os.path.abspath(os.path.join(os.getcwd(), \"../\"))\n",
    "sys.path.append(ROOT_DIR)\n",
    "\n",
    "from cogment_verse.utils.generate import generate\n",
    "from cogment_verse.app import SPEC_FILEPATH\n",
    "\n",
    "WORK_DIR = os.path.join(ROOT_DIR, \".cogment_verse\")\n",
    "\n",
    "generate(WORK_DIR, SPEC_FILEPATH)"
   ]
  },
  {
   "cell_type": "code",
   "execution_count": null,
   "metadata": {},
   "outputs": [],
   "source": [
    "import asyncio\n",
    "import functools\n",
    "import re\n",
    "import json\n",
    "from dataclasses import dataclass, field\n",
    "from datetime import datetime\n",
    "from typing import List\n",
    "\n",
    "import cogment\n",
    "import numpy as np\n",
    "import pandas as pd\n",
    "from cogment.control import TrialState\n",
    "from tabulate import tabulate\n",
    "from utils import get_trial_ids, get_trial_data\n",
    "\n",
    "from cogment_verse.specs import (\n",
    "    AgentConfig,\n",
    "    cog_settings,\n",
    "    EnvironmentConfig,\n",
    "    EnvironmentSpecs,\n",
    "    HUMAN_ACTOR_IMPL,\n",
    "    PLAYER_ACTOR_CLASS,\n",
    "    TEACHER_ACTOR_CLASS,\n",
    "    WEB_ACTOR_NAME,\n",
    ")\n",
    "from cogment_verse.specs.ndarray_serialization import deserialize_ndarray, serialize_ndarray\n",
    "from cogment_verse.services_directory import ServiceDirectory,ServiceType\n",
    "from cogment_verse.model_registry import ModelRegistry\n",
    "\n",
    "MODEL_REGISTRY_ENDPOINT = \"grpc://localhost:9002\"\n",
    "\n",
    "service_directory = ServiceDirectory()\n",
    "service_directory.add(\n",
    "    service_type=ServiceType.MODEL_REGISTRY,\n",
    "    service_endpoint=MODEL_REGISTRY_ENDPOINT,\n",
    ")\n",
    "model_registry = ModelRegistry(service_directory)"
   ]
  },
  {
   "attachments": {},
   "cell_type": "markdown",
   "metadata": {},
   "source": [
    "## Retrieve all model info"
   ]
  },
  {
   "cell_type": "code",
   "execution_count": null,
   "metadata": {},
   "outputs": [],
   "source": [
    "model_infos = await model_registry.list_models()\n",
    "\n",
    "print(\"*** ALL AVAILABLE MODELS ***\")\n",
    "for model_info in model_infos:\n",
    "    print(json.dumps(model_info, indent=4))"
   ]
  },
  {
   "attachments": {},
   "cell_type": "markdown",
   "metadata": {},
   "source": [
    "## Retrieve version info about specific model"
   ]
  },
  {
   "cell_type": "code",
   "execution_count": null,
   "metadata": {},
   "outputs": [],
   "source": [
    "model_id = \"tender_lamport_0_model\"\n",
    "version_infos = await model_registry.list_model_versions(model_id)\n",
    "\n",
    "print(f\"Versions available: {len(version_infos)+1}\")\n",
    "print(\"*** ONLY PRINTING THE 3 LATEST VERSIONS ***\")\n",
    "for version in version_infos[-3:]:\n",
    "    print(json.dumps(version, indent=4))"
   ]
  },
  {
   "cell_type": "code",
   "execution_count": null,
   "metadata": {},
   "outputs": [],
   "source": []
  }
 ],
 "metadata": {
  "kernelspec": {
   "display_name": ".venv",
   "language": "python",
   "name": "python3"
  },
  "language_info": {
   "codemirror_mode": {
    "name": "ipython",
    "version": 3
   },
   "file_extension": ".py",
   "mimetype": "text/x-python",
   "name": "python",
   "nbconvert_exporter": "python",
   "pygments_lexer": "ipython3",
   "version": "3.7.13"
  },
  "orig_nbformat": 4,
  "vscode": {
   "interpreter": {
    "hash": "ff55a71747f840c7b6e33248b46cb40245ff20b6d08dfd45922763a0ef363d01"
   }
  }
 },
 "nbformat": 4,
 "nbformat_minor": 2
}
