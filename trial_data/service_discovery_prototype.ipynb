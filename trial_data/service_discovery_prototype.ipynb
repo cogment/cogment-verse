{
 "cells": [
  {
   "attachments": {},
   "cell_type": "markdown",
   "metadata": {},
   "source": [
    "# Service Discovery Prototype\n",
    "\n",
    "Goals:\n",
    "\n",
    "- Be able to launch a full app experiment from the notebook.\n",
    "- Detect if services are running or not? (is this feasible?)\n",
    "- If needed services not started, start it. Otherwise, simply connect to it.\n",
    "- Be able to access the same set of services from two notebooks.\n",
    "\n",
    "## Before running the notebook\n",
    "The trial datastore process must be started prior to running the notebook. Make sure you open a terminal, activate the .venv environment, run:\n",
    "```\n",
    "python -m launch_local_services\n",
    "```\n",
    "\n",
    "Once you are done with working in this notebook, close the terminal window."
   ]
  },
  {
   "attachments": {},
   "cell_type": "markdown",
   "metadata": {},
   "source": [
    "## Cogment Setup"
   ]
  },
  {
   "cell_type": "code",
   "execution_count": 1,
   "metadata": {},
   "outputs": [],
   "source": [
    "import os\n",
    "import sys\n",
    "\n",
    "ROOT_DIR = os.path.abspath(os.path.join(os.getcwd(), \"../\"))\n",
    "sys.path.append(ROOT_DIR)\n",
    "\n",
    "from cogment_verse.utils.generate import generate\n",
    "from cogment_verse.app import SPEC_FILEPATH\n",
    "\n",
    "WORK_DIR = os.path.join(ROOT_DIR, \".cogment_verse\")\n",
    "\n",
    "generate(WORK_DIR, SPEC_FILEPATH)"
   ]
  },
  {
   "cell_type": "code",
   "execution_count": 2,
   "metadata": {},
   "outputs": [],
   "source": [
    "import asyncio\n",
    "import functools\n",
    "import re\n",
    "import json\n",
    "from dataclasses import dataclass, field\n",
    "from datetime import datetime\n",
    "from typing import List\n",
    "\n",
    "import cogment\n",
    "import numpy as np\n",
    "import pandas as pd\n",
    "from cogment.control import TrialState\n",
    "from tabulate import tabulate\n",
    "from utils import get_trial_ids, get_trial_data\n",
    "\n",
    "from cogment_verse.specs import (\n",
    "    AgentConfig,\n",
    "    cog_settings,\n",
    "    EnvironmentConfig,\n",
    "    EnvironmentSpecs,\n",
    "    HUMAN_ACTOR_IMPL,\n",
    "    PLAYER_ACTOR_CLASS,\n",
    "    TEACHER_ACTOR_CLASS,\n",
    "    WEB_ACTOR_NAME,\n",
    ")\n",
    "from cogment_verse.specs.ndarray_serialization import deserialize_ndarray, serialize_ndarray\n",
    "from cogment_verse.services_directory import ServiceDirectory,ServiceType\n",
    "from cogment_verse.model_registry import ModelRegistry\n",
    "\n",
    "MODEL_REGISTRY_ENDPOINT = \"grpc://localhost:9002\"\n",
    "\n",
    "service_directory = ServiceDirectory()\n",
    "service_directory.add(\n",
    "    service_type=ServiceType.MODEL_REGISTRY,\n",
    "    service_endpoint=MODEL_REGISTRY_ENDPOINT,\n",
    ")\n",
    "model_registry = ModelRegistry(service_directory)"
   ]
  },
  {
   "cell_type": "code",
   "execution_count": null,
   "metadata": {},
   "outputs": [],
   "source": [
    "class CogmentServices:\n",
    "    \"\"\" Detects and connects to running services. Otherwise launches services.\n",
    "    \"\"\"\n",
    "    def __init__():\n",
    "      context = cogment.Context(cog_settings=cog_settings, user_id=\"cogment_verse\")\n",
    "\n",
    "    \n"
   ]
  },
  {
   "cell_type": "code",
   "execution_count": 4,
   "metadata": {},
   "outputs": [
    {
     "ename": "AttributeError",
     "evalue": "'str' object has no attribute 'url'",
     "output_type": "error",
     "traceback": [
      "\u001b[0;31m---------------------------------------------------------------------------\u001b[0m",
      "\u001b[0;31mAttributeError\u001b[0m                            Traceback (most recent call last)",
      "Cell \u001b[0;32mIn[4], line 4\u001b[0m\n\u001b[1;32m      1\u001b[0m directory_port \u001b[39m=\u001b[39m \u001b[39m9003\u001b[39m\n\u001b[1;32m      2\u001b[0m directory_endpoint \u001b[39m=\u001b[39m \u001b[39mf\u001b[39m\u001b[39m\"\u001b[39m\u001b[39mgrpc://localhost:\u001b[39m\u001b[39m{\u001b[39;00mdirectory_port\u001b[39m}\u001b[39;00m\u001b[39m\"\u001b[39m\n\u001b[0;32m----> 4\u001b[0m context \u001b[39m=\u001b[39m cogment\u001b[39m.\u001b[39;49mContext(cog_settings\u001b[39m=\u001b[39;49mcog_settings, user_id\u001b[39m=\u001b[39;49m\u001b[39m\"\u001b[39;49m\u001b[39mcogment_verse\u001b[39;49m\u001b[39m\"\u001b[39;49m, directory_endpoint\u001b[39m=\u001b[39;49mdirectory_endpoint)\n",
      "File \u001b[0;32m~/dev/cogment-verse/.venv/lib/python3.9/site-packages/cogment/context.py:154\u001b[0m, in \u001b[0;36mContext.__init__\u001b[0;34m(self, user_id, cog_settings, asyncio_loop, prometheus_registry, directory_endpoint, directory_auth_token)\u001b[0m\n\u001b[1;32m    152\u001b[0m \u001b[39mif\u001b[39;00m endpoint_to_use:\n\u001b[1;32m    153\u001b[0m     \u001b[39mtry\u001b[39;00m:\n\u001b[0;32m--> 154\u001b[0m         channel \u001b[39m=\u001b[39m _make_client_channel(endpoint_to_use)\n\u001b[1;32m    155\u001b[0m     \u001b[39mexcept\u001b[39;00m CogmentError \u001b[39mas\u001b[39;00m exc:\n\u001b[1;32m    156\u001b[0m         \u001b[39mraise\u001b[39;00m CogmentError(\u001b[39mf\u001b[39m\u001b[39m\"\u001b[39m\u001b[39mDirectory endpoint: \u001b[39m\u001b[39m{\u001b[39;00mexc\u001b[39m}\u001b[39;00m\u001b[39m\"\u001b[39m)\n",
      "File \u001b[0;32m~/dev/cogment-verse/.venv/lib/python3.9/site-packages/cogment/context.py:61\u001b[0m, in \u001b[0;36m_make_client_channel\u001b[0;34m(grpc_endpoint)\u001b[0m\n\u001b[1;32m     60\u001b[0m \u001b[39mdef\u001b[39;00m \u001b[39m_make_client_channel\u001b[39m(grpc_endpoint: ep\u001b[39m.\u001b[39mEndpoint):\n\u001b[0;32m---> 61\u001b[0m     parsed_url \u001b[39m=\u001b[39m urlpar\u001b[39m.\u001b[39murlparse(grpc_endpoint\u001b[39m.\u001b[39;49murl)\n\u001b[1;32m     62\u001b[0m     \u001b[39mif\u001b[39;00m parsed_url\u001b[39m.\u001b[39mscheme \u001b[39m==\u001b[39m ep\u001b[39m.\u001b[39mGRPC_SCHEME:\n\u001b[1;32m     63\u001b[0m         url \u001b[39m=\u001b[39m parsed_url\u001b[39m.\u001b[39mnetloc\n",
      "\u001b[0;31mAttributeError\u001b[0m: 'str' object has no attribute 'url'"
     ]
    }
   ],
   "source": [
    "directory_port = 9005\n",
    "directory_endpoint = f\"grpc://localhost:{directory_port}\"\n",
    "\n",
    "context = cogment.Context(cog_settings=cog_settings, user_id=\"cogment_verse\", directory_endpoint=directory_endpoint)"
   ]
  },
  {
   "cell_type": "code",
   "execution_count": null,
   "metadata": {},
   "outputs": [],
   "source": [
    "context.directory_endpoint\n",
    "#directory = context.get_directory()"
   ]
  },
  {
   "cell_type": "code",
   "execution_count": null,
   "metadata": {},
   "outputs": [],
   "source": []
  },
  {
   "cell_type": "code",
   "execution_count": null,
   "metadata": {},
   "outputs": [],
   "source": []
  },
  {
   "attachments": {},
   "cell_type": "markdown",
   "metadata": {},
   "source": [
    "## Retrieve all model info"
   ]
  },
  {
   "cell_type": "code",
   "execution_count": null,
   "metadata": {},
   "outputs": [],
   "source": [
    "model_infos = await model_registry.list_models()\n",
    "\n",
    "print(\"*** ALL AVAILABLE MODELS ***\")\n",
    "for model_info in model_infos:\n",
    "    print(json.dumps(model_info, indent=4))"
   ]
  },
  {
   "attachments": {},
   "cell_type": "markdown",
   "metadata": {},
   "source": [
    "## Retrieve version info about specific model"
   ]
  },
  {
   "cell_type": "code",
   "execution_count": null,
   "metadata": {},
   "outputs": [],
   "source": [
    "model_id = \"tender_lamport_0_model\"\n",
    "version_infos = await model_registry.list_model_versions(model_id)\n",
    "\n",
    "print(f\"Versions available: {len(version_infos)+1}\")\n",
    "print(\"*** ONLY PRINTING THE 3 LATEST VERSIONS ***\")\n",
    "for version in version_infos[-3:]:\n",
    "    print(json.dumps(version, indent=4))"
   ]
  },
  {
   "cell_type": "code",
   "execution_count": null,
   "metadata": {},
   "outputs": [],
   "source": []
  },
  {
   "cell_type": "code",
   "execution_count": null,
   "metadata": {},
   "outputs": [],
   "source": []
  },
  {
   "cell_type": "code",
   "execution_count": null,
   "metadata": {},
   "outputs": [],
   "source": []
  }
 ],
 "metadata": {
  "kernelspec": {
   "display_name": ".venv",
   "language": "python",
   "name": "python3"
  },
  "language_info": {
   "codemirror_mode": {
    "name": "ipython",
    "version": 3
   },
   "file_extension": ".py",
   "mimetype": "text/x-python",
   "name": "python",
   "nbconvert_exporter": "python",
   "pygments_lexer": "ipython3",
   "version": "3.9.16"
  },
  "orig_nbformat": 4,
  "vscode": {
   "interpreter": {
    "hash": "ff55a71747f840c7b6e33248b46cb40245ff20b6d08dfd45922763a0ef363d01"
   }
  }
 },
 "nbformat": 4,
 "nbformat_minor": 2
}
