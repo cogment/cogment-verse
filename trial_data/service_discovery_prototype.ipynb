{
 "cells": [
  {
   "attachments": {},
   "cell_type": "markdown",
   "metadata": {},
   "source": [
    "# Service Discovery Prototype\n",
    "\n",
    "Goals:\n",
    "\n",
    "- Be able to launch a full app experiment from the notebook.\n",
    "- Detect if services are running or not? (is this feasible?)\n",
    "- If needed services not started, start it. Otherwise, simply connect to it.\n",
    "- Be able to access the same set of services from two notebooks.\n",
    "\n",
    "## Before running the notebook\n",
    "The trial datastore process must be started prior to running the notebook. Make sure you open a terminal, activate the .venv environment, run:\n",
    "```\n",
    "python -m launch_local_services\n",
    "```\n",
    "\n",
    "Once you are done with working in this notebook, close the terminal window."
   ]
  },
  {
   "attachments": {},
   "cell_type": "markdown",
   "metadata": {},
   "source": [
    "## Cogment Setup"
   ]
  },
  {
   "cell_type": "code",
   "execution_count": 11,
   "metadata": {},
   "outputs": [],
   "source": [
    "import os\n",
    "import sys\n",
    "\n",
    "ROOT_DIR = os.path.abspath(os.path.join(os.getcwd(), \"../\"))\n",
    "sys.path.append(ROOT_DIR)\n",
    "\n",
    "from cogment_verse.utils.generate import generate\n",
    "from cogment_verse.app import SPEC_FILEPATH\n",
    "\n",
    "WORK_DIR = os.path.join(ROOT_DIR, \".cogment_verse\")\n",
    "\n",
    "generate(WORK_DIR, SPEC_FILEPATH)"
   ]
  },
  {
   "cell_type": "code",
   "execution_count": 12,
   "metadata": {},
   "outputs": [],
   "source": [
    "import asyncio\n",
    "import functools\n",
    "import re\n",
    "import json\n",
    "from dataclasses import dataclass, field\n",
    "from datetime import datetime\n",
    "from typing import List\n",
    "\n",
    "import cogment\n",
    "import numpy as np\n",
    "import pandas as pd\n",
    "from cogment.control import TrialState\n",
    "from tabulate import tabulate\n",
    "from utils import get_trial_ids, get_trial_data\n",
    "\n",
    "from cogment_verse.specs import (\n",
    "    AgentConfig,\n",
    "    cog_settings,\n",
    "    EnvironmentConfig,\n",
    "    EnvironmentSpecs,\n",
    "    HUMAN_ACTOR_IMPL,\n",
    "    PLAYER_ACTOR_CLASS,\n",
    "    TEACHER_ACTOR_CLASS,\n",
    "    WEB_ACTOR_NAME,\n",
    ")\n",
    "\n",
    "DIRECTORY_ENDPOINT = \"grpc://localhost:9000\""
   ]
  },
  {
   "cell_type": "code",
   "execution_count": 14,
   "metadata": {},
   "outputs": [
    {
     "name": "stdout",
     "output_type": "stream",
     "text": [
      "[2023-05-24 23:12:06,717][cogment_verse.processes.model_registry][INFO] - Model Registry starting on port [43199]...\n",
      "[2023-05-24 23:12:07,627][cogment_verse.processes.trial_datastore][INFO] - Trial Datastore starting on port [34873]...\n",
      "[2023-05-24 23:12:08,210][cogment_verse.app][INFO] - Start services...\n",
      "[2023-05-24 23:12:09,173][cogment_verse.processes.actor][INFO] - Service actor [actors.random_actor.RandomActor] starting on port [38547]...\n",
      "[2023-05-24 23:12:09,173][cogment.sdk][INFO] - Agent Service started\n",
      "[2023-05-24 23:12:09,190][cogment_verse.web.server.server][INFO] - Starting production web server on port [8080]\n",
      "[2023-05-24 23:12:09,219][cogment_verse.processes.environment][INFO] - Environment [environments.gym_adapter.Environment/LunarLander-v2] starting on port [36631]...\n",
      "[2023-05-24 23:12:09,220][cogment.sdk][INFO] - Environment Service started\n",
      "[2023-05-24 23:12:14,376][cogment_verse.app][INFO] - Services ready\n",
      "[2023-05-24 23:12:14,376][cogment_verse.app][INFO] - Run starting...\n",
      "[2023-05-24 23:12:15,053][cogment_verse.processes.run][INFO] - Starting run [stoic_mendel_0] from [runs.play.PlayRun]\n",
      "[2023-05-24 23:12:15,053][cogment_verse.experiment_tracker.simple_experiment_tracker][INFO] - [runs.play.PlayRun/stoic_mendel_0] log params [{\"actor_0_implementation\": \"client\", \"actor_0_model_id\": null, \"actor_0_model_iteration\": null, \"environment\": \"environments.gym_adapter.Environment/LunarLander-v2\"}]\n",
      "^C\n",
      "[2023-05-24 23:12:34,723][cogment_verse.processes.actor][WARNING] - interrupted by user\n",
      "[2023-05-24 23:12:34,723][cogment_verse.processes.environment][WARNING] - interrupted by user\n",
      "[2023-05-24 23:12:34,723][cogment_verse.app][WARNING] - interrupted by user\n",
      "[2023-05-24 23:12:34,723][cogment_verse.processes.popen_process][INFO] - terminating [trial_datastore]\n",
      "[2023-05-24 23:12:34,723][cogment_verse.processes.popen_process][INFO] - terminating [orchestrator]\n",
      "[2023-05-24 23:12:34,723][cogment_verse.processes.popen_process][INFO] - terminating [model_registry]\n",
      "[2023-05-24 23:12:34,723][cogment_verse.processes.run][WARNING] - interrupted by user\n"
     ]
    },
    {
     "ename": "",
     "evalue": "",
     "output_type": "error",
     "traceback": [
      "\u001b[1;31mThe Kernel crashed while executing code in the the current cell or a previous cell. Please review the code in the cell(s) to identify a possible cause of the failure. Click <a href='https://aka.ms/vscodeJupyterKernelCrash'>here</a> for more info. View Jupyter <a href='command:jupyter.viewOutput'>log</a> for further details."
     ]
    }
   ],
   "source": [
    "!python ../main.py"
   ]
  },
  {
   "cell_type": "code",
   "execution_count": 7,
   "metadata": {},
   "outputs": [
    {
     "name": "stdout",
     "output_type": "stream",
     "text": [
      "explore_datastore.ipynb       __pycache__\n",
      "explore_model_registry.ipynb  service_discovery_prototype.ipynb\n",
      "prototype_sagemaker.ipynb     utils.py\n"
     ]
    }
   ],
   "source": [
    "!ls"
   ]
  },
  {
   "cell_type": "code",
   "execution_count": null,
   "metadata": {},
   "outputs": [],
   "source": []
  }
 ],
 "metadata": {
  "kernelspec": {
   "display_name": ".venv",
   "language": "python",
   "name": "python3"
  },
  "language_info": {
   "codemirror_mode": {
    "name": "ipython",
    "version": 3
   },
   "file_extension": ".py",
   "mimetype": "text/x-python",
   "name": "python",
   "nbconvert_exporter": "python",
   "pygments_lexer": "ipython3",
   "version": "3.9.16"
  },
  "orig_nbformat": 4,
  "vscode": {
   "interpreter": {
    "hash": "ff55a71747f840c7b6e33248b46cb40245ff20b6d08dfd45922763a0ef363d01"
   }
  }
 },
 "nbformat": 4,
 "nbformat_minor": 2
}
