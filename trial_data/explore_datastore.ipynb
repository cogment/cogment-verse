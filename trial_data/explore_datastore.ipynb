{
 "cells": [
  {
   "attachments": {},
   "cell_type": "markdown",
   "metadata": {},
   "source": [
    "# Data Exploration\n",
    "\n",
    "This notebook is meant to be a template for explorion of the data collected from trials.\n",
    "\n",
    "### Please duplicate the notebook to start your work and keep the template intact.\n",
    "\n",
    "## Before running the notebook\n",
    "The trial datastore process must be started prior to running the notebook. Make sure you open a terminal, activate the .venv environment, run:\n",
    "```\n",
    "python -m launch_local_services\n",
    "```\n",
    "\n",
    "Once you are done with working in this notebook, close the terminal window."
   ]
  },
  {
   "attachments": {},
   "cell_type": "markdown",
   "metadata": {},
   "source": [
    "## Cogment Setup"
   ]
  },
  {
   "cell_type": "code",
   "execution_count": 80,
   "metadata": {},
   "outputs": [],
   "source": [
    "import os\n",
    "import sys\n",
    "\n",
    "ROOT_DIR = os.path.abspath(os.path.join(os.getcwd(), \"../\"))\n",
    "sys.path.append(ROOT_DIR)\n",
    "\n",
    "from cogment_verse.utils.generate import generate\n",
    "from cogment_verse.app import SPEC_FILEPATH\n",
    "\n",
    "WORK_DIR = os.path.join(ROOT_DIR, \".cogment_verse\")\n",
    "\n",
    "generate(WORK_DIR, SPEC_FILEPATH)"
   ]
  },
  {
   "cell_type": "code",
   "execution_count": 88,
   "metadata": {},
   "outputs": [],
   "source": [
    "import asyncio\n",
    "import functools\n",
    "import re\n",
    "from dataclasses import dataclass, field\n",
    "from datetime import datetime\n",
    "from typing import List\n",
    "\n",
    "import cogment\n",
    "import numpy as np\n",
    "import pandas as pd\n",
    "from cogment.control import TrialState\n",
    "from tabulate import tabulate\n",
    "from utils import get_trial_ids, get_trial_data\n",
    "\n",
    "\n",
    "import matplotlib.pyplot as plt\n",
    "import ipywidgets as widgets\n",
    "\n",
    "import torch\n",
    "\n",
    "from cogment_verse.specs import (\n",
    "    AgentConfig,\n",
    "    cog_settings,\n",
    "    EnvironmentConfig,\n",
    "    EnvironmentSpecs,\n",
    ")\n",
    "from cogment_verse.specs.ndarray_serialization import deserialize_ndarray, serialize_ndarray\n",
    "\n",
    "\n",
    "TRIAL_DATASTORE_ENDPOINT = \"grpc://localhost:9001\""
   ]
  },
  {
   "attachments": {},
   "cell_type": "markdown",
   "metadata": {},
   "source": [
    "## Extract trial ids from datastore"
   ]
  },
  {
   "cell_type": "code",
   "execution_count": 78,
   "metadata": {},
   "outputs": [
    {
     "name": "stdout",
     "output_type": "stream",
     "text": [
      "Trial ids count: 3\n",
      "first 10 trial ids: [vigilant_hermann_0_0, vigilant_hermann_0_1, vigilant_hermann_0_2]\n"
     ]
    }
   ],
   "source": [
    "trial_ids = await get_trial_ids(TRIAL_DATASTORE_ENDPOINT)\n",
    "print(f\"Trial ids count: {len(trial_ids)}\")\n",
    "print(f\"first 10 trial ids: [{', '.join(trial_ids[:10])}]\")"
   ]
  },
  {
   "attachments": {},
   "cell_type": "markdown",
   "metadata": {},
   "source": [
    "## Extract Trial Data\n",
    "\n",
    "Example extracting trial info and `samples` for all trials in the datastore.\n",
    "\n",
    "If only interested in a single or specific set of trial ids, simply pass elements in the list argument `trial_ids` of the function `get_trial_data`."
   ]
  },
  {
   "cell_type": "code",
   "execution_count": 83,
   "metadata": {},
   "outputs": [
    {
     "name": "stdout",
     "output_type": "stream",
     "text": [
      "Number of samples in trial: 2639\n"
     ]
    }
   ],
   "source": [
    "trial_data = await get_trial_data(TRIAL_DATASTORE_ENDPOINT, trial_ids=[])\n",
    "test_trial_id = \"vigilant_hermann_0_0\"\n",
    "\n",
    "# Trial info about a specific trial ID\n",
    "info = trial_data[test_trial_id][\"trial_info\"]\n",
    "\n",
    "# List of samples for specific Trial ID\n",
    "samples = trial_data[test_trial_id][\"samples\"]\n",
    "print(f\"Number of samples in trial: {len(samples)}\")\n",
    "\n",
    "environment_specs = EnvironmentSpecs.deserialize(info.parameters.actors[0].config.environment_specs)\n",
    "action_space = environment_specs.get_action_space()\n",
    "observation_space = environment_specs.get_observation_space()"
   ]
  },
  {
   "attachments": {},
   "cell_type": "markdown",
   "metadata": {},
   "source": [
    "## Inspect Trial Data\n",
    "\n",
    "Each trial comes with a set of generic information about the trial. It is an instance of `TrialInfo` class. \n",
    "\n",
    "For more information about the `TrialInfo` class, see https://cogment.ai/docs/reference/python#class-trialinfo. "
   ]
  },
  {
   "cell_type": "code",
   "execution_count": 84,
   "metadata": {},
   "outputs": [
    {
     "name": "stdout",
     "output_type": "stream",
     "text": [
      "Trial ID: vigilant_hermann_0_0\n",
      "Trial State: TrialState.ENDED\n",
      "Number of steps: 2639\n",
      "environments.pettingzoo_adapter.AtariEnvironment/pettingzoo.atari.pong_v3\n",
      "Environment Implementation: None\n",
      "Environment Config: run_id: \"vigilant_hermann_0\"\n",
      "render: true\n",
      "\n"
     ]
    }
   ],
   "source": [
    "print(f\"Trial ID: {info.trial_id}\")\n",
    "print(f\"Trial State: {info.trial_state}\")\n",
    "print(f\"Number of steps: {info.sample_count}\")\n",
    "\n",
    "print(f\"Environment Implementation: {print(info.parameters.environment_implementation)}\")\n",
    "print(f\"Environment Config: {info.parameters.environment_config}\")"
   ]
  },
  {
   "attachments": {},
   "cell_type": "markdown",
   "metadata": {},
   "source": [
    "## Inspect Sample\n",
    "\n",
    "Each sample from the trial datastore is an instance of the `DatastoreSample` class. \n",
    "\n",
    "For more info on the `DatastoreSample` class, see: https://cogment.ai/docs/reference/python#class-datastoresample\n",
    "\n",
    "\n"
   ]
  },
  {
   "cell_type": "code",
   "execution_count": 85,
   "metadata": {},
   "outputs": [
    {
     "name": "stdout",
     "output_type": "stream",
     "text": [
      "Trial ID: vigilant_hermann_0_0\n",
      "Trial State: TrialState.RUNNING\n",
      "Step: 801\n",
      "Timestamp: 1685054996685931861\n",
      "Actors: ['web_actor', 'player_2']\n",
      "Observation shape: (84, 84, 6)\n",
      "Action: 0\n",
      "Reward: 0.0\n"
     ]
    }
   ],
   "source": [
    "sample = samples[801]\n",
    "\n",
    "def deserialize_sample(sample, actor_name, action_space, observation_space):\n",
    "    cogment_obs = sample.actors_data[actor_name].observation\n",
    "    cogment_action = sample.actors_data[actor_name].action\n",
    "    name = sample.actors_data[actor_name].name\n",
    "    reward = sample.actors_data[actor_name].reward\n",
    "    observation = observation_space.deserialize(cogment_obs).value\n",
    "    action = action_space.deserialize(cogment_action).value\n",
    "\n",
    "    return name, observation, action, reward\n",
    "\n",
    "# General Sample info\n",
    "print(f\"Trial ID: {sample.trial_id}\")\n",
    "print(f\"Trial State: {sample.trial_state}\")\n",
    "print(f\"Step: {sample.tick_id}\")\n",
    "print(f\"Timestamp: {sample.timestamp}\")\n",
    "print(f\"Actors: {list(sample.actors_data.keys())}\")\n",
    "\n",
    "name, observation, action, reward = deserialize_sample(sample, \"web_actor\", action_space, observation_space)\n",
    "\n",
    "print(f\"Observation shape: {observation.shape}\")\n",
    "print(f\"Action: {action}\")\n",
    "print(f\"Reward: {reward}\")"
   ]
  },
  {
   "cell_type": "code",
   "execution_count": 86,
   "metadata": {},
   "outputs": [
    {
     "name": "stdout",
     "output_type": "stream",
     "text": [
      "[[255 255 255 ... 255 255 255]\n",
      " [255 255 255 ... 255 255 255]\n",
      " [255 255 255 ... 255 255 255]\n",
      " ...\n",
      " [255 255 255 ... 255 255 255]\n",
      " [255 255 255 ... 255 255 255]\n",
      " [255 255 255 ... 255 255 255]]\n"
     ]
    }
   ],
   "source": [
    "print(observation[:, :, 5])"
   ]
  },
  {
   "cell_type": "code",
   "execution_count": 32,
   "metadata": {},
   "outputs": [
    {
     "data": {
      "image/png": "[encoded data removed]",
      "text/plain": [
       "<Figure size 1200x200 with 6 Axes>"
      ]
     },
     "metadata": {},
     "output_type": "display_data"
    }
   ],
   "source": [
    "def display_single_channel(channel):\n",
    "    \n",
    "    if len(channel.shape) == 2:\n",
    "        channel = np.reshape(channel, (channel.shape[0], channel.shape[1], 1))\n",
    "\n",
    "    assert len(channel.shape) == 3, f\"channel has a shape of {channel.shape}\"\n",
    "    image = np.repeat(channel, 3, axis=2)\n",
    "    plt.imshow(image)\n",
    "    plt.axis('off')\n",
    "    plt.show()\n",
    "\n",
    "def display_all_channels(observation):\n",
    "    num_images = observation.shape[2]\n",
    "\n",
    "    fig, axes = plt.subplots(1, num_images, figsize=(num_images * 2, 2))\n",
    "\n",
    "    for i in range(num_images):\n",
    "        image = np.reshape(observation[:, :, i], (observation[:, :, i].shape[0], observation[:, :, i].shape[1], 1))\n",
    "        image = np.repeat(image, 3, axis=2)\n",
    "\n",
    "        axes[i].imshow(image)\n",
    "        axes[i].axis('off')\n",
    "\n",
    "    plt.tight_layout()\n",
    "    # plt.show()\n",
    "\n",
    "def display_observation(observations):\n",
    "    assert len(observation.shape) == 3 and observation.shape[2] == 6, f\"Observation should have 6 channels, but has shape {observation.shape}.\"\n",
    "    display_all_channels(observation[:, :, :])\n",
    "    display_all_channels(observation[:, :, 4:6]) \n",
    "\n",
    "selected_sample = samples[6]\n",
    "name, observation, action, reward = deserialize_sample(selected_sample, \"web_actor\", action_space, observation_space)\n",
    "\n",
    "display_all_channels(observation[:, :, :])\n",
    "# display_single_channel(observation[:, :, 3])\n",
    "# display_observation(observation)"
   ]
  },
  {
   "cell_type": "code",
   "execution_count": 33,
   "metadata": {},
   "outputs": [
    {
     "data": {
      "application/vnd.jupyter.widget-view+json": {
       "model_id": "417f08f1046b434990468a707826dbee",
       "version_major": 2,
       "version_minor": 0
      },
      "text/plain": [
       "interactive(children=(IntSlider(value=0, description='idx', max=2616), Output()), _dom_classes=('widget-intera…"
      ]
     },
     "metadata": {},
     "output_type": "display_data"
    }
   ],
   "source": [
    "from ipywidgets import interact, interactive, fixed, interact_manual\n",
    "import ipywidgets as widgets\n",
    "\n",
    "observations = []\n",
    "for sample in samples:\n",
    "    name, observation, action, reward = deserialize_sample(sample, \"web_actor\", action_space, observation_space)\n",
    "    observations.append(observation)\n",
    "\n",
    "@widgets.interact(observations=fixed(observations), idx=(0, len(observations) - 1))\n",
    "def display_observations(observations, idx=0):\n",
    "    observation = observations[idx]\n",
    "    assert len(observation.shape) == 3 and observation.shape[2] == 6, f\"Observation should have 6 channels, but has shape {observation.shape}.\"\n",
    "    display_all_channels(observation[:, :, :])\n",
    "\n"
   ]
  },
  {
   "cell_type": "code",
   "execution_count": 40,
   "metadata": {},
   "outputs": [
    {
     "data": {
      "application/vnd.jupyter.widget-view+json": {
       "model_id": "1e193ca48c734523860ced0da679ad74",
       "version_major": 2,
       "version_minor": 0
      },
      "text/plain": [
       "interactive(children=(IntSlider(value=0, description='x', max=5), Output()), _dom_classes=('widget-interact',)…"
      ]
     },
     "metadata": {},
     "output_type": "display_data"
    }
   ],
   "source": [
    "@widgets.interact(x=(0, 5))\n",
    "def f(x=0):\n",
    "    print(x)"
   ]
  },
  {
   "attachments": {},
   "cell_type": "markdown",
   "metadata": {},
   "source": [
    "## Same sample - different actor\n",
    "\n",
    "Conclusion, both actors receive the exact same observation, with an indicator for the player to which it is destined to in the observation array itself."
   ]
  },
  {
   "cell_type": "code",
   "execution_count": 76,
   "metadata": {},
   "outputs": [
    {
     "name": "stdout",
     "output_type": "stream",
     "text": [
      "web_actor observation:\n",
      "web_actor action: 1\n",
      "player_2 observation:\n",
      "player_2 action: 5\n"
     ]
    },
    {
     "data": {
      "image/png": "[encoded data removed]",
      "text/plain": [
       "<Figure size 1200x200 with 6 Axes>"
      ]
     },
     "metadata": {},
     "output_type": "display_data"
    },
    {
     "data": {
      "image/png": "[encoded data removed]",
      "text/plain": [
       "<Figure size 1200x200 with 6 Axes>"
      ]
     },
     "metadata": {},
     "output_type": "display_data"
    }
   ],
   "source": [
    "sample = samples[110]\n",
    "\n",
    "web_name, web_observation, web_action, web_reward = deserialize_sample(sample, \"web_actor\", action_space, observation_space)\n",
    "print(f\"{web_name} observation:\")\n",
    "print(f\"{web_name} action: {web_action}\")\n",
    "display_all_channels(web_observation[:, :, :])\n",
    "\n",
    "name, observation, action, reward = deserialize_sample(sample, \"player_2\", action_space, observation_space)\n",
    "print(f\"{name} observation:\")\n",
    "print(f\"{name} action: {action}\")\n",
    "display_all_channels(observation[:, :, :])\n",
    "\n"
   ]
  },
  {
   "cell_type": "code",
   "execution_count": null,
   "metadata": {},
   "outputs": [],
   "source": []
  },
  {
   "cell_type": "code",
   "execution_count": null,
   "metadata": {},
   "outputs": [],
   "source": []
  },
  {
   "attachments": {},
   "cell_type": "markdown",
   "metadata": {},
   "source": [
    "## Data Augmentation"
   ]
  },
  {
   "attachments": {},
   "cell_type": "markdown",
   "metadata": {},
   "source": [
    "### Mirroring Observations"
   ]
  },
  {
   "cell_type": "code",
   "execution_count": 41,
   "metadata": {},
   "outputs": [],
   "source": [
    "name, observation, action, reward = deserialize_sample(sample, \"web_actor\", action_space, observation_space)\n",
    "\n",
    "mirrored_obs = np.copy(observation)\n",
    "mirrored_obs.\n"
   ]
  },
  {
   "cell_type": "code",
   "execution_count": 65,
   "metadata": {},
   "outputs": [
    {
     "data": {
      "image/png": "[encoded data removed]",
      "text/plain": [
       "<Figure size 1200x200 with 6 Axes>"
      ]
     },
     "metadata": {},
     "output_type": "display_data"
    },
    {
     "data": {
      "image/png": "[encoded data removed]",
      "text/plain": [
       "<Figure size 1200x200 with 6 Axes>"
      ]
     },
     "metadata": {},
     "output_type": "display_data"
    }
   ],
   "source": [
    "display_all_channels(observation[:, :, :])\n",
    "display_all_channels(observation[:, ::-1, :])"
   ]
  },
  {
   "cell_type": "code",
   "execution_count": 53,
   "metadata": {},
   "outputs": [
    {
     "data": {
      "text/plain": [
       "(75, 84, 6)"
      ]
     },
     "execution_count": 53,
     "metadata": {},
     "output_type": "execute_result"
    }
   ],
   "source": [
    "observation[9:, ::-1, :].shape"
   ]
  },
  {
   "cell_type": "code",
   "execution_count": null,
   "metadata": {},
   "outputs": [],
   "source": []
  },
  {
   "attachments": {},
   "cell_type": "markdown",
   "metadata": {},
   "source": [
    "## Adapt Observation to HF Hub Model\n",
    "\n",
    "Required model input: (4, 84, 84)\n",
    "Current observation size: (84, 84, 6)"
   ]
  },
  {
   "cell_type": "code",
   "execution_count": 96,
   "metadata": {},
   "outputs": [
    {
     "name": "stdout",
     "output_type": "stream",
     "text": [
      "torch.Size([84, 84, 6])\n",
      "torch.Size([4, 84, 84])\n"
     ]
    }
   ],
   "source": [
    "observation = observation_space.deserialize(sample.actors_data[\"web_actor\"].observation)\n",
    "observation_tensor = torch.tensor(observation.value, dtype=torch.float) #.view(1, -1)\n",
    "\n",
    "print(observation_tensor.size())\n",
    "\n",
    "print(observation_tensor[:, :, :4].permute(2, 0, 1).size())"
   ]
  },
  {
   "cell_type": "code",
   "execution_count": null,
   "metadata": {},
   "outputs": [],
   "source": []
  },
  {
   "cell_type": "code",
   "execution_count": null,
   "metadata": {},
   "outputs": [],
   "source": []
  }
 ],
 "metadata": {
  "kernelspec": {
   "display_name": ".venv",
   "language": "python",
   "name": "python3"
  },
  "language_info": {
   "codemirror_mode": {
    "name": "ipython",
    "version": 3
   },
   "file_extension": ".py",
   "mimetype": "text/x-python",
   "name": "python",
   "nbconvert_exporter": "python",
   "pygments_lexer": "ipython3",
   "version": "3.9.16"
  },
  "orig_nbformat": 4,
  "vscode": {
   "interpreter": {
    "hash": "ff55a71747f840c7b6e33248b46cb40245ff20b6d08dfd45922763a0ef363d01"
   }
  }
 },
 "nbformat": 4,
 "nbformat_minor": 2
}
