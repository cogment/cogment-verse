{
 "cells": [
  {
   "attachments": {},
   "cell_type": "markdown",
   "metadata": {},
   "source": [
    "# Data Exploration\n",
    "\n",
    "This notebook is meant to be a template for explorion of the data collected from trials.\n",
    "\n",
    "### Please duplicate the notebook to start your work and keep the template intact.\n",
    "\n",
    "## Before running the notebook\n",
    "The trial datastore process must be started prior to running the notebook. Make sure you open a terminal, activate the .venv environment, run:\n",
    "```\n",
    "python -m launch_local_services\n",
    "```\n",
    "\n",
    "Once you are done with working in this notebook, close the terminal window."
   ]
  },
  {
   "attachments": {},
   "cell_type": "markdown",
   "metadata": {},
   "source": [
    "## Cogment Setup"
   ]
  },
  {
   "cell_type": "code",
   "execution_count": 10,
   "metadata": {},
   "outputs": [],
   "source": [
    "import os\n",
    "import sys\n",
    "\n",
    "ROOT_DIR = os.path.abspath(os.path.join(os.getcwd(), \"../\"))\n",
    "sys.path.append(ROOT_DIR)\n",
    "\n",
    "from cogment_verse.constants import DEFAULT_CONFIG_DIR, DEFAULT_WORK_DIR, SPEC_FILEPATH\n",
    "from cogment_verse.utils.generate import generate\n",
    "\n",
    "generate(DEFAULT_WORK_DIR, SPEC_FILEPATH)"
   ]
  },
  {
   "cell_type": "code",
   "execution_count": 11,
   "metadata": {},
   "outputs": [],
   "source": [
    "import yaml\n",
    "from utils import get_trial_data, get_trial_ids\n",
    "\n",
    "from cogment_verse.specs import EnvironmentSpecs, cog_settings\n",
    "\n",
    "with open(os.path.join(DEFAULT_CONFIG_DIR, \"launch_local_services.yaml\"), \"r\") as f:\n",
    "    config = yaml.safe_load(f)\n",
    "port = config[\"services\"][\"trial_datastore\"][\"port\"]\n",
    "\n",
    "TRIAL_DATASTORE_ENDPOINT = f\"grpc://localhost:{port}\""
   ]
  },
  {
   "attachments": {},
   "cell_type": "markdown",
   "metadata": {},
   "source": [
    "## Extract trial ids from datastore"
   ]
  },
  {
   "cell_type": "code",
   "execution_count": 12,
   "metadata": {},
   "outputs": [
    {
     "name": "stdout",
     "output_type": "stream",
     "text": [
      "Trial ids count: 1\n",
      "first 10 trial ids: [tender_noether_0_0]\n"
     ]
    }
   ],
   "source": [
    "trial_ids = await get_trial_ids(TRIAL_DATASTORE_ENDPOINT)\n",
    "print(f\"Trial ids count: {len(trial_ids)}\")\n",
    "print(f\"first 10 trial ids: [{', '.join(trial_ids[:10])}]\")"
   ]
  },
  {
   "attachments": {},
   "cell_type": "markdown",
   "metadata": {},
   "source": [
    "## Extract Trial Data\n",
    "\n",
    "Example extracting trial info and `samples` for all trials in the datastore.\n",
    "\n",
    "If only interested in a single or specific set of trial ids, simply pass elements in the list argument `trial_ids` of the function `get_trial_data`."
   ]
  },
  {
   "cell_type": "code",
   "execution_count": 7,
   "metadata": {},
   "outputs": [
    {
     "name": "stdout",
     "output_type": "stream",
     "text": [
      "Number of samples in trial: 2175\n"
     ]
    }
   ],
   "source": [
    "trial_data = await get_trial_data(TRIAL_DATASTORE_ENDPOINT, trial_ids=[])\n",
    "test_trial_id = \"tender_noether_0_0\"\n",
    "\n",
    "# Trial info about a specific trial ID\n",
    "info = trial_data[test_trial_id][\"trial_info\"]\n",
    "\n",
    "# List of samples for specific Trial ID\n",
    "samples = trial_data[test_trial_id][\"samples\"]\n",
    "print(f\"Number of samples in trial: {len(samples)}\")"
   ]
  },
  {
   "attachments": {},
   "cell_type": "markdown",
   "metadata": {},
   "source": [
    "## Inspect Trial Data\n",
    "\n",
    "Each trial comes with a set of generic information about the trial. It is an instance of `TrialInfo` class. \n",
    "\n",
    "For more information about the `TrialInfo` class, see https://cogment.ai/docs/reference/python#class-trialinfo. "
   ]
  },
  {
   "cell_type": "code",
   "execution_count": 8,
   "metadata": {},
   "outputs": [
    {
     "name": "stdout",
     "output_type": "stream",
     "text": [
      "Trial ID: tender_noether_0_0\n",
      "Trial State: TrialState.ENDED\n",
      "Number of steps: 2175\n",
      "environments.pettingzoo_adapter.AtariEnvironment/pettingzoo.atari.pong_v3\n",
      "Environment Implementation: None\n",
      "Environment Config: run_id: \"tender_noether_0\"\n",
      "render: true\n",
      "\n"
     ]
    }
   ],
   "source": [
    "print(f\"Trial ID: {info.trial_id}\")\n",
    "print(f\"Trial State: {info.trial_state}\")\n",
    "print(f\"Number of steps: {info.sample_count}\")\n",
    "\n",
    "print(f\"Environment Implementation: {print(info.parameters.environment_implementation)}\")\n",
    "print(f\"Environment Config: {info.parameters.environment_config}\")"
   ]
  },
  {
   "attachments": {},
   "cell_type": "markdown",
   "metadata": {},
   "source": [
    "## Inspect Sample\n",
    "\n",
    "Each sample from the trial datastore is an instance of the `DatastoreSample` class. \n",
    "\n",
    "For more info on the `DatastoreSample` class, see: https://cogment.ai/docs/reference/python#class-datastoresample\n",
    "\n",
    "\n"
   ]
  },
  {
   "cell_type": "code",
   "execution_count": 9,
   "metadata": {},
   "outputs": [
    {
     "name": "stdout",
     "output_type": "stream",
     "text": [
      "DatastoreSample: trial_id = tender_noether_0_0, trial_state = TrialState.RUNNING, tick_id = 0, timestamp = 1682183897894560020 UTC[2023-04-22 17:18:17.894560], nb actors = 2\n",
      "Trial ID: tender_noether_0_0\n",
      "Trial State: TrialState.RUNNING\n",
      "Step: 0\n",
      "Timestamp: 1682183897894560020\n",
      "Actors: ['web_actor', 'player_2']\n",
      "State: [[[  0   0   0  17 255   0]\n",
      "  [  0   0   0  17 255   0]\n",
      "  [  0   0   0  17 255   0]\n",
      "  ...\n",
      "  [  0   0   0  17 255   0]\n",
      "  [  0   0   0  17 255   0]\n",
      "  [  0   0   0  17 255   0]]\n",
      "\n",
      " [[  0   0   0  17 255   0]\n",
      "  [  0   0   0  17 255   0]\n",
      "  [  0   0   0  17 255   0]\n",
      "  ...\n",
      "  [  0   0   0  17 255   0]\n",
      "  [  0   0   0  17 255   0]\n",
      "  [  0   0   0  17 255   0]]\n",
      "\n",
      " [[  0   0   0  17 255   0]\n",
      "  [  0   0   0  17 255   0]\n",
      "  [  0   0   0  17 255   0]\n",
      "  ...\n",
      "  [  0   0   0  17 255   0]\n",
      "  [  0   0   0  17 255   0]\n",
      "  [  0   0   0  17 255   0]]\n",
      "\n",
      " ...\n",
      "\n",
      " [[  0   0   0 236 255   0]\n",
      "  [  0   0   0 236 255   0]\n",
      "  [  0   0   0 236 255   0]\n",
      "  ...\n",
      "  [  0   0   0 236 255   0]\n",
      "  [  0   0   0 236 255   0]\n",
      "  [  0   0   0 236 255   0]]\n",
      "\n",
      " [[  0   0   0 236 255   0]\n",
      "  [  0   0   0 236 255   0]\n",
      "  [  0   0   0 236 255   0]\n",
      "  ...\n",
      "  [  0   0   0 236 255   0]\n",
      "  [  0   0   0 236 255   0]\n",
      "  [  0   0   0 236 255   0]]\n",
      "\n",
      " [[  0   0   0 236 255   0]\n",
      "  [  0   0   0 236 255   0]\n",
      "  [  0   0   0 236 255   0]\n",
      "  ...\n",
      "  [  0   0   0 236 255   0]\n",
      "  [  0   0   0 236 255   0]\n",
      "  [  0   0   0 236 255   0]]]\n",
      "Action: 0\n",
      "Reward: 0.0\n"
     ]
    }
   ],
   "source": [
    "sample = samples[0]\n",
    "print(sample)\n",
    "\n",
    "environment_specs = EnvironmentSpecs.deserialize(info.parameters.actors[0].config.environment_specs)\n",
    "action_space = environment_specs.get_action_space()\n",
    "observation_space = environment_specs.get_observation_space()\n",
    "\n",
    "# General Sample info\n",
    "print(f\"Trial ID: {sample.trial_id}\")\n",
    "print(f\"Trial State: {sample.trial_state}\")\n",
    "print(f\"Step: {sample.tick_id}\")\n",
    "print(f\"Timestamp: {sample.timestamp}\")\n",
    "\n",
    "# Actor observation, action, reward\n",
    "print(f\"Actors: {list(sample.actors_data.keys())}\")\n",
    "cogment_obs = sample.actors_data[\"web_actor\"].observation\n",
    "cogment_action = sample.actors_data[\"web_actor\"].action\n",
    "reward = sample.actors_data[\"web_actor\"].reward\n",
    "\n",
    "state = observation_space.deserialize(cogment_obs).value\n",
    "print(f\"State: {state}\")\n",
    "\n",
    "action = action_space.deserialize(cogment_action).value\n",
    "print(f\"Action: {action}\")\n",
    "\n",
    "print(f\"Reward: {reward}\")"
   ]
  },
  {
   "cell_type": "code",
   "execution_count": null,
   "metadata": {},
   "outputs": [],
   "source": []
  }
 ],
 "metadata": {
  "kernelspec": {
   "display_name": ".venv",
   "language": "python",
   "name": "python3"
  },
  "language_info": {
   "codemirror_mode": {
    "name": "ipython",
    "version": 3
   },
   "file_extension": ".py",
   "mimetype": "text/x-python",
   "name": "python",
   "nbconvert_exporter": "python",
   "pygments_lexer": "ipython3",
   "version": "3.9.16"
  },
  "orig_nbformat": 4,
  "vscode": {
   "interpreter": {
    "hash": "ff55a71747f840c7b6e33248b46cb40245ff20b6d08dfd45922763a0ef363d01"
   }
  }
 },
 "nbformat": 4,
 "nbformat_minor": 2
}
